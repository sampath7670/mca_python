{
 "cells": [
  {
   "cell_type": "code",
   "execution_count": 51,
   "id": "508f4281",
   "metadata": {},
   "outputs": [
    {
     "name": "stdout",
     "output_type": "stream",
     "text": [
      "Before Swapping a= 21 b= 12\n",
      "After Swapping a= 12 b= 21\n"
     ]
    }
   ],
   "source": [
    "'''1. Swapping Variables\n",
    "\n",
    "Write a Python program to swap the values of two variables entered by the user.\n",
    "\n",
    "Hint: Use a temporary variable or Python’s tuple unpacking to swap values.'''\n",
    "a=int(input(\"Enter The Value Of a:\"))\n",
    "b=int(input(\"Enter The Value Of b:\"))\n",
    "print(\"Before Swapping a=\",a,\"b=\",b)\n",
    "temp=a\n",
    "a=b\n",
    "b=temp\n",
    "print(\"After Swapping a=\",a,\"b=\",b)"
   ]
  },
  {
   "cell_type": "code",
   "execution_count": 52,
   "id": "87f66c4f",
   "metadata": {},
   "outputs": [
    {
     "name": "stdout",
     "output_type": "stream",
     "text": [
      "Result: 2\n"
     ]
    }
   ],
   "source": [
    "'''2. Simple Calculator (No Conditions)\n",
    "\n",
    "Create a program that takes two numbers and an operator (+, -, *, /) as input from the user and prints the result.\n",
    "\n",
    "Hint: Use eval() or separate conditions for operators, but since no conditions allowed, use eval() with the expression.'''\n",
    "num1 = input(\"Enter first number: \")\n",
    "num2 = input(\"Enter second number: \")\n",
    "operator = input(\"Enter operator (+, -, *, /):\")\n",
    "expression = num1 + operator + num2\n",
    "result = eval(expression)\n",
    "print(\"Result:\", result)\n"
   ]
  },
  {
   "cell_type": "code",
   "execution_count": 53,
   "id": "b4f842b1",
   "metadata": {},
   "outputs": [
    {
     "name": "stdout",
     "output_type": "stream",
     "text": [
      "<class 'str'>\n",
      "<class 'int'>\n",
      "<class 'float'>\n"
     ]
    }
   ],
   "source": [
    "'''3. Type Conversion\n",
    "\n",
    "Ask the user to input a number as a string. Convert it to an integer and a float, then print both values and their types.\n",
    "\n",
    "Hint: Use int(), float(), and type() to show the types.'''\n",
    "num=input(\"Enter any Number:\")\n",
    "num1=int(num)\n",
    "num2=float(num1)\n",
    "\n",
    "print(type(num))\n",
    "print(type(num1))\n",
    "print(type(num2))"
   ]
  },
  {
   "cell_type": "code",
   "execution_count": 54,
   "id": "22b9cd7a",
   "metadata": {},
   "outputs": [
    {
     "data": {
      "text/plain": [
       "'4. Quadratic Equation Roots (No Conditions)\\n\\nWrite a program that takes three numbers as input: a, b, and c for the equation ax^2 + bx + c = 0. Calculate the roots using the formula.\\n\\nHint: Use ** for power and complex() if you get a negative square root. Do not use any modules or conditions.'"
      ]
     },
     "execution_count": 54,
     "metadata": {},
     "output_type": "execute_result"
    }
   ],
   "source": [
    "'''4. Quadratic Equation Roots (No Conditions)\n",
    "\n",
    "Write a program that takes three numbers as input: a, b, and c for the equation ax^2 + bx + c = 0. Calculate the roots using the formula.\n",
    "\n",
    "Hint: Use ** for power and complex() if you get a negative square root. Do not use any modules or conditions.'''"
   ]
  },
  {
   "cell_type": "code",
   "execution_count": 55,
   "id": "9de6ecd4",
   "metadata": {},
   "outputs": [
    {
     "name": "stdout",
     "output_type": "stream",
     "text": [
      "Name: Sampath\n",
      "Age: 21\n",
      "Height: 186.0\n"
     ]
    }
   ],
   "source": [
    "'''5. Custom Data Type Formatter\n",
    "\n",
    "Take input of a person’s name, age, and height (in cm). Print a formatted string: “Name: <name>, Age: <age> years, Height: <height> cm”. Also, make sure age is an integer and height is a float.\n",
    "\n",
    "Hint: Use input(), int(), float(), and f-strings for formatting.'''\n",
    "Name=input(\"Enter Your Name:\")\n",
    "Age=int(input(\"Enter Your Age:\"))\n",
    "Height=float(input(\"Enter Your Height:\"))\n",
    "print(\"Name:\",Name)\n",
    "print(\"Age:\",Age)\n",
    "print(\"Height:\",Height)"
   ]
  },
  {
   "cell_type": "code",
   "execution_count": 56,
   "id": "88294cdf",
   "metadata": {},
   "outputs": [
    {
     "name": "stdout",
     "output_type": "stream",
     "text": [
      "Result: 5.6\n"
     ]
    }
   ],
   "source": [
    "\n",
    "''' 6. Complex Expression Evaluator\n",
    "\n",
    "Write a program that takes three numbers from the user and calculates the result of the expression: ((num1 + num2) * num3) / (num1 - num2). Print the result rounded to 2 decimal places.\n",
    "\n",
    "Hint: Use parentheses for the calculation and round() for formatting. If you get an error (like dividing by zero), Python will show it.'''\n",
    "num1 = float(input(\"Enter first number: \"))\n",
    "num2 = float(input(\"Enter second number: \"))\n",
    "num3 = float(input(\"Enter third number: \"))\n",
    "result = ((num1 + num2) * num3) / (num1 - num2)\n",
    "\n",
    "print(\"Result:\", round(result, 2))\n"
   ]
  },
  {
   "cell_type": "code",
   "execution_count": 57,
   "id": "01dd91fb",
   "metadata": {},
   "outputs": [
    {
     "name": "stdout",
     "output_type": "stream",
     "text": [
      "The Sum Of a and b is: 4\n"
     ]
    }
   ],
   "source": [
    "''' 7. Sum of Two Numbers\n",
    "\n",
    "Write a program to take two numbers as input and print their sum.\n",
    "\n",
    "Hint: Use the + operator to add the numbers.'''\n",
    "a=int(input(\"Enter The Value Of a:\"))\n",
    "b=int(input(\"Enter The Value Of b:\"))\n",
    "\n",
    "c=a+b\n",
    "\n",
    "print(\"The Sum Of a and b is:\",c)"
   ]
  },
  {
   "cell_type": "code",
   "execution_count": 58,
   "id": "7961d068",
   "metadata": {},
   "outputs": [
    {
     "name": "stdout",
     "output_type": "stream",
     "text": [
      "SAMPATH\n"
     ]
    }
   ],
   "source": [
    "''' 8. Uppercase String\n",
    "\n",
    "Take a string as input and print it in uppercase.\n",
    "\n",
    "Hint: Use the .upper() method on the string.'''\n",
    "name=input(\"Enter Your Name:\")\n",
    "name1=name.upper()\n",
    "print(name1)"
   ]
  },
  {
   "cell_type": "code",
   "execution_count": 59,
   "id": "c2cb5f2c",
   "metadata": {},
   "outputs": [
    {
     "name": "stdout",
     "output_type": "stream",
     "text": [
      "16\n"
     ]
    }
   ],
   "source": [
    "''' 9. Square of a Number\n",
    "\n",
    "Input a number and print its square.\n",
    "\n",
    "Hint: Use the ** operator with exponent 2 or multiply the number by itself.'''\n",
    "number=int(input(\"Enter Any Number:\"))\n",
    "square=number**2\n",
    "print(square)"
   ]
  },
  {
   "cell_type": "code",
   "execution_count": 60,
   "id": "46285db6",
   "metadata": {},
   "outputs": [
    {
     "name": "stdout",
     "output_type": "stream",
     "text": [
      "Hello Sampath\n"
     ]
    }
   ],
   "source": [
    "''' 10.Greeting Message Take a name as input and print “Hello, <name>”.'''\n",
    "name=input(\"Enter Your Name:\")\n",
    "print(\"Hello\",name)"
   ]
  },
  {
   "cell_type": "code",
   "execution_count": 61,
   "id": "3c2313ba",
   "metadata": {},
   "outputs": [
    {
     "name": "stdout",
     "output_type": "stream",
     "text": [
      "HelloGood Morning\n"
     ]
    }
   ],
   "source": [
    "'''11. String Concatenation\n",
    "\n",
    "Input two strings and print them concatenated together.\n",
    "\n",
    "Hint: Use the + operator to join the strings.'''\n",
    "a=\"Hello\"\n",
    "b=\"Good Morning\"\n",
    "\n",
    "c=a+b\n",
    "print(c)"
   ]
  },
  {
   "cell_type": "code",
   "execution_count": 63,
   "id": "9fa74be1",
   "metadata": {},
   "outputs": [
    {
     "name": "stdout",
     "output_type": "stream",
     "text": [
      "3\n"
     ]
    }
   ],
   "source": [
    "'''12. Float to Integer Conversion\n",
    "\n",
    "Take a float as input and print its integer equivalent using int().\n",
    "\n",
    "Hint: Use int() to convert the float to an integer, which truncates the decimal part.'''\n",
    "number=float(input(\"Enter Any Number:\"))\n",
    "number1=int(number)\n",
    "print(number1)"
   ]
  },
  {
   "cell_type": "code",
   "execution_count": 64,
   "id": "3189f3c4",
   "metadata": {},
   "outputs": [
    {
     "name": "stdout",
     "output_type": "stream",
     "text": [
      "You are 34 years old\n"
     ]
    }
   ],
   "source": [
    "'''13. Age Display\n",
    "\n",
    "Input an age as a number and print “You are <age> years old”.\n",
    "\n",
    "Hint: Convert the input to int if needed and use f-string for formatting.'''\n",
    "age=int(input(\"Enter Your Age:\"))\n",
    "print(f'You are {age} years old')"
   ]
  },
  {
   "cell_type": "code",
   "execution_count": 65,
   "id": "5b266615",
   "metadata": {},
   "outputs": [
    {
     "name": "stdout",
     "output_type": "stream",
     "text": [
      "15\n"
     ]
    }
   ],
   "source": [
    "''' 14. Product of Two Numbers\n",
    "\n",
    "Take two numbers as input and print their product.\n",
    "\n",
    "Hint: Use the * operator to multiply the numbers.'''\n",
    "num1=int(input(\"Enter first number: \"))\n",
    "num2=int(input(\"Enter second number: \"))\n",
    "product=num1*num2\n",
    "print(product)"
   ]
  },
  {
   "cell_type": "code",
   "execution_count": 68,
   "id": "a0dfa96a",
   "metadata": {},
   "outputs": [
    {
     "name": "stdout",
     "output_type": "stream",
     "text": [
      "21\n"
     ]
    }
   ],
   "source": [
    "''' 15. String Length\n",
    "\n",
    "Input a sentence and print its length using len().\n",
    "\n",
    "Hint: Apply len() directly to the input string.'''\n",
    "sentance=\"Hii Rohit How Are You\"\n",
    "print(len(sentance))"
   ]
  },
  {
   "cell_type": "code",
   "execution_count": 69,
   "id": "c94b19b5",
   "metadata": {},
   "outputs": [
    {
     "name": "stdout",
     "output_type": "stream",
     "text": [
      "The average of three numbers is: 4.0\n"
     ]
    }
   ],
   "source": [
    "''' 16. Average of Three Numbers\n",
    "\n",
    "Take three numbers as input and print their average.\n",
    "\n",
    "Hint: Sum the numbers and divide by 3, use parentheses for clarity.'''\n",
    "num1 = int(input(\"Enter first number: \"))\n",
    "num2 = int(input(\"Enter second number: \"))\n",
    "num3 = int(input(\"Enter third number: \"))\n",
    "average = (num1 + num2 + num3) / 3\n",
    "print(\"The average of three numbers is:\", average)"
   ]
  },
  {
   "cell_type": "code",
   "execution_count": 72,
   "id": "0c856e0c",
   "metadata": {},
   "outputs": [
    {
     "name": "stdout",
     "output_type": "stream",
     "text": [
      "90.32\n"
     ]
    }
   ],
   "source": [
    "''' 17. Absolute Value\n",
    "\n",
    "Input a number and print its absolute value using abs().\n",
    "\n",
    "Hint: Use the built-in abs() function.'''\n",
    "num=float(input(\"Enter Any Number:\"))\n",
    "absolute_value=abs(num)\n",
    "print(absolute_value)"
   ]
  },
  {
   "cell_type": "code",
   "execution_count": 73,
   "id": "54120e0b",
   "metadata": {},
   "outputs": [
    {
     "name": "stdout",
     "output_type": "stream",
     "text": [
      "0\n"
     ]
    }
   ],
   "source": [
    "''' 18. Difference of Two Numbers\n",
    "\n",
    "Take two numbers as input and print their difference.\n",
    "\n",
    "Hint: Subtract the second number from the first using the - operator.'''\n",
    "num1=int(input(\"Enter first number: \"))\n",
    "num2=int(input(\"Enter second number: \"))\n",
    "difference=num1-num2\n",
    "print(difference)"
   ]
  },
  {
   "cell_type": "code",
   "execution_count": 74,
   "id": "680b29f0",
   "metadata": {},
   "outputs": [
    {
     "name": "stdout",
     "output_type": "stream",
     "text": [
      "htapmas\n"
     ]
    }
   ],
   "source": [
    "''' 19. String Reversal\n",
    "\n",
    "Input a string and print it reversed using slicing.\n",
    "\n",
    "Hint: Use slicing with [::-1] to reverse the string.\n",
    "\n",
    "'''\n",
    "word=input(\"Enter Your word:\")\n",
    "reverse=word[::-1]\n",
    "print(reverse)\n"
   ]
  },
  {
   "cell_type": "code",
   "execution_count": 75,
   "id": "57edf4a8",
   "metadata": {},
   "outputs": [
    {
     "name": "stdout",
     "output_type": "stream",
     "text": [
      "Your Height in meters is 1.98 m\n"
     ]
    }
   ],
   "source": [
    "''' 20. Height Conversion\n",
    "\n",
    "Input height in centimeters and print it converted to meters.\n",
    "\n",
    "Hint: Divide the height by 100 to convert cm to meters.\n",
    "\n",
    "'''\n",
    "Height=float(input(\"Enter Your Height:\"))\n",
    "height_in_meters=Height/100\n",
    "print(f'Your Height in meters is {height_in_meters} m')"
   ]
  },
  {
   "cell_type": "code",
   "execution_count": 76,
   "id": "5c36ba6a",
   "metadata": {},
   "outputs": [
    {
     "name": "stdout",
     "output_type": "stream",
     "text": [
      "1.0\n"
     ]
    }
   ],
   "source": [
    "''' 21. Quotient of Two Numbers\n",
    "\n",
    "Take two numbers as input and print their quotient.\n",
    "\n",
    "Hint: Use the / operator for division.'''\n",
    "num1 = float(input(\"Enter first number: \"))\n",
    "num2 = float(input(\"Enter second number: \"))    \n",
    "Quatent=num1/num2\n",
    "print(Quatent)"
   ]
  },
  {
   "cell_type": "code",
   "execution_count": 77,
   "id": "9b800025",
   "metadata": {},
   "outputs": [
    {
     "name": "stdout",
     "output_type": "stream",
     "text": [
      "\"sampath\"\n"
     ]
    }
   ],
   "source": [
    "'''22. Quoted Name\n",
    "\n",
    "Input a name and print it surrounded by double quotes.\n",
    "\n",
    "Hint: Use f-string like f’”{name}”’ or concatenation with quotes. '''\n",
    "name=input(\"Enter Your Name:\")\n",
    "print(f'\"{name}\"')"
   ]
  },
  {
   "cell_type": "code",
   "execution_count": 82,
   "id": "b59eaa4c",
   "metadata": {},
   "outputs": [
    {
     "name": "stdout",
     "output_type": "stream",
     "text": [
      "3.14\n"
     ]
    }
   ],
   "source": [
    "''' 23. Formatted Number\n",
    "\n",
    "Take a number as input and print it rounded to 2 decimal places.\n",
    "\n",
    "Hint: Use round(number, 2) to round to 2 decimal places.'''\n",
    "num1 = float(input(\"Enter first number: \"))\n",
    "\n",
    "round1=round(num1,2)\n",
    "print(round1)"
   ]
  },
  {
   "cell_type": "code",
   "execution_count": 79,
   "id": "0a410930",
   "metadata": {},
   "outputs": [
    {
     "name": "stdout",
     "output_type": "stream",
     "text": [
      "sampath bharath\n"
     ]
    }
   ],
   "source": [
    "''' 24. String Separation\n",
    "\n",
    "Input two strings and print them separated by a space.\n",
    "\n",
    "Hint: Use f-string like f”{str1} {str2}” or concatenation with a space.'''\n",
    "text1=input(\"Enter Your Text:\")\n",
    "text2=input(\"Enter Your Text:\")\n",
    "print(f'{text1} {text2}')"
   ]
  },
  {
   "cell_type": "code",
   "execution_count": 80,
   "id": "9bcd38ee",
   "metadata": {},
   "outputs": [
    {
     "name": "stdout",
     "output_type": "stream",
     "text": [
      "<class 'str'>\n",
      "<class 'int'>\n",
      "<class 'tuple'>\n",
      "<class 'list'>\n",
      "<class 'set'>\n",
      "<class 'dict'>\n"
     ]
    }
   ],
   "source": [
    "#25. Type of Input\n",
    "\n",
    "#Take any input and print its type using type().\n",
    "\n",
    "#Hint: Apply type() to the input variable.\n",
    "a=\"sampath\"\n",
    "b=12\n",
    "c=(1,2,3,4,5)\n",
    "d=[1,2,3,4,5,6]\n",
    "e={1,2,3,4,5}\n",
    "f={a:123,b:\"Apple\"}\n",
    "print(type(a))\n",
    "print(type(b))\n",
    "print(type(c))\n",
    "print(type(d))\n",
    "print(type(e))\n",
    "print(type(f))"
   ]
  },
  {
   "cell_type": "code",
   "execution_count": 81,
   "id": "1e4e64b1",
   "metadata": {},
   "outputs": [
    {
     "name": "stdout",
     "output_type": "stream",
     "text": [
      "9\n",
      "3.0\n"
     ]
    }
   ],
   "source": [
    "#26. Sum and Product\n",
    "#Input three numbers and print their sum and their product.\n",
    "num1=int(input(\"Enter first number: \"))\n",
    "num2=int(input(\"Enter second number: \"))\n",
    "num3=int(input(\"Enter third number: \"))\n",
    "\n",
    "sum=num1+num2+num3\n",
    "print(sum)\n",
    "product=sum/3\n",
    "print(product)"
   ]
  }
 ],
 "metadata": {
  "kernelspec": {
   "display_name": "Python 3",
   "language": "python",
   "name": "python3"
  },
  "language_info": {
   "codemirror_mode": {
    "name": "ipython",
    "version": 3
   },
   "file_extension": ".py",
   "mimetype": "text/x-python",
   "name": "python",
   "nbconvert_exporter": "python",
   "pygments_lexer": "ipython3",
   "version": "3.11.2"
  }
 },
 "nbformat": 4,
 "nbformat_minor": 5
}
