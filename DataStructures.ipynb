{
 "cells": [
  {
   "cell_type": "code",
   "execution_count": 22,
   "id": "8aa81995",
   "metadata": {},
   "outputs": [
    {
     "name": "stdout",
     "output_type": "stream",
     "text": [
      "<class 'list'> []\n",
      "[1, 2, 3, 4, 5]\n",
      "['Apple', 'Banana', 'Mango']\n",
      "[1, 2, 3, 4, 5, 6]\n",
      "[1, 1, 1, 1, 1, 1, 1, 1, 1, 1]\n",
      "[1, 2, 1, 2, 1, 2, 1, 2, 1, 2]\n",
      "[1, 1, 1, 1, 1, 1, 1, 1, 1, 1]\n",
      "[1, 1, 1, 1, 1, 1, 1, 1, 1, 1, 1, 1, 1, 1, 1, 1, 1, 1, 1, 1]\n",
      "[1, 1, 1, 1, 1, 1, 1, 1, 1, 1]\n",
      "1111111111Apple\n",
      "Banana Mango\n"
     ]
    }
   ],
   "source": [
    "x=[]#Empty\n",
    "x=list()#empty\n",
    "print(type(x),x)\n",
    "y=[1,2,3,4,5]# Direct Initialization\n",
    "print(y)\n",
    "fruits=[]\n",
    "fruits.append('Apple')\n",
    "fruits.append('Banana')\n",
    "fruits.append('Mango')\n",
    "print(fruits)\n",
    "x=[1,2,3]\n",
    "y=[4,5,6]\n",
    "z=x+y #Concatinate list\n",
    "print(z)\n",
    "#list of Duplicates\n",
    "a=[1]*10\n",
    "print(a)\n",
    "b=[1,2]*5\n",
    "print(b)\n",
    "c=a*2\n",
    "print(a)\n",
    "print(c)\n",
    "#Displaying\n",
    "print(a)\n",
    "#displaying Single item at a time\n",
    "for item in a:\n",
    "    print(item,end=\"\")\n",
    "#single element using index\n",
    "print(fruits[0])\n",
    "print(fruits[1],fruits[2])"
   ]
  },
  {
   "cell_type": "code",
   "execution_count": 25,
   "id": "e099fea4",
   "metadata": {},
   "outputs": [
    {
     "name": "stdout",
     "output_type": "stream",
     "text": [
      "['Bhargav', 'Sameer', 'Yaswanth', 'Vamsi', 'Ram', 'Ajay', 'Balaji', 'Abhi', 'Ruhi', 'Varsha', 'Sumithra', 'Jyoshna', 'Meghana', 'Anjali', 'Sirisha', 'Sahiti', 'Geetha']\n",
      "Varsha\n",
      "['Bhargav', 'Sameer', 'Yaswanth', 'Vamsi', 'Ram', 'Ajay', 'Balaji', 'Abhi', 'Ruhi', 'Varsha', 'Sumithra', 'Jyoshna', 'Meghana', 'Anjali', 'Sirisha', 'Sahiti', 'Geetha', 'Sampath']\n",
      "['Bhargav', 'Sameer', 'Yaswanth', 'Vamsi', 'Ajay', 'Balaji', 'Abhi', 'Ruhi', 'Varsha', 'Sumithra', 'Jyoshna', 'Meghana', 'Anjali', 'Sirisha', 'Sahiti', 'Geetha', 'Sampath']\n"
     ]
    }
   ],
   "source": [
    "students=[\"Bhargav\",\"Sameer\",\"Yaswanth\",\"Vamsi\",\"Ram\",\"Ajay\",\"Balaji\",\"Abhi\",\"Ruhi\",\"Varsha\",\"Sumithra\",\"Jyoshna\",\"Meghana\",\"Anjali\",\"Sirisha\",\"Sahiti\",\"Geetha\"]\n",
    "print(students)\n",
    "print(students[9])\n",
    "students.append(\"Sampath\")\n",
    "print(students)\n",
    "students.pop(4)\n",
    "print(students)"
   ]
  }
 ],
 "metadata": {
  "kernelspec": {
   "display_name": "Python 3",
   "language": "python",
   "name": "python3"
  },
  "language_info": {
   "codemirror_mode": {
    "name": "ipython",
    "version": 3
   },
   "file_extension": ".py",
   "mimetype": "text/x-python",
   "name": "python",
   "nbconvert_exporter": "python",
   "pygments_lexer": "ipython3",
   "version": "3.11.2"
  }
 },
 "nbformat": 4,
 "nbformat_minor": 5
}
