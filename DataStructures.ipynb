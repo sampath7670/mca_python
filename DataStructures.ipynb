{
 "cells": [
  {
   "cell_type": "code",
   "execution_count": 22,
   "id": "8aa81995",
   "metadata": {},
   "outputs": [
    {
     "name": "stdout",
     "output_type": "stream",
     "text": [
      "<class 'list'> []\n",
      "[1, 2, 3, 4, 5]\n",
      "['Apple', 'Banana', 'Mango']\n",
      "[1, 2, 3, 4, 5, 6]\n",
      "[1, 1, 1, 1, 1, 1, 1, 1, 1, 1]\n",
      "[1, 2, 1, 2, 1, 2, 1, 2, 1, 2]\n",
      "[1, 1, 1, 1, 1, 1, 1, 1, 1, 1]\n",
      "[1, 1, 1, 1, 1, 1, 1, 1, 1, 1, 1, 1, 1, 1, 1, 1, 1, 1, 1, 1]\n",
      "[1, 1, 1, 1, 1, 1, 1, 1, 1, 1]\n",
      "1111111111Apple\n",
      "Banana Mango\n"
     ]
    }
   ],
   "source": [
    "x=[]#Empty\n",
    "x=list()#empty\n",
    "print(type(x),x)\n",
    "y=[1,2,3,4,5]# Direct Initialization\n",
    "print(y)\n",
    "fruits=[]\n",
    "fruits.append('Apple')\n",
    "fruits.append('Banana')\n",
    "fruits.append('Mango')\n",
    "print(fruits)\n",
    "x=[1,2,3]\n",
    "y=[4,5,6]\n",
    "z=x+y #Concatinate list\n",
    "print(z)\n",
    "#list of Duplicates\n",
    "a=[1]*10\n",
    "print(a)\n",
    "b=[1,2]*5\n",
    "print(b)\n",
    "c=a*2\n",
    "print(a)\n",
    "print(c)\n",
    "#Displaying\n",
    "print(a)\n",
    "#displaying Single item at a time\n",
    "for item in a:\n",
    "    print(item,end=\"\")\n",
    "#single element using index\n",
    "print(fruits[0])\n",
    "print(fruits[1],fruits[2])"
   ]
  },
  {
   "cell_type": "code",
   "execution_count": 25,
   "id": "e099fea4",
   "metadata": {},
   "outputs": [
    {
     "name": "stdout",
     "output_type": "stream",
     "text": [
      "['Bhargav', 'Sameer', 'Yaswanth', 'Vamsi', 'Ram', 'Ajay', 'Balaji', 'Abhi', 'Ruhi', 'Varsha', 'Sumithra', 'Jyoshna', 'Meghana', 'Anjali', 'Sirisha', 'Sahiti', 'Geetha']\n",
      "Varsha\n",
      "['Bhargav', 'Sameer', 'Yaswanth', 'Vamsi', 'Ram', 'Ajay', 'Balaji', 'Abhi', 'Ruhi', 'Varsha', 'Sumithra', 'Jyoshna', 'Meghana', 'Anjali', 'Sirisha', 'Sahiti', 'Geetha', 'Sampath']\n",
      "['Bhargav', 'Sameer', 'Yaswanth', 'Vamsi', 'Ajay', 'Balaji', 'Abhi', 'Ruhi', 'Varsha', 'Sumithra', 'Jyoshna', 'Meghana', 'Anjali', 'Sirisha', 'Sahiti', 'Geetha', 'Sampath']\n"
     ]
    }
   ],
   "source": [
    "students=[\"Bhargav\",\"Sameer\",\"Yaswanth\",\"Vamsi\",\"Ram\",\"Ajay\",\"Balaji\",\"Abhi\",\"Ruhi\",\"Varsha\",\"Sumithra\",\"Jyoshna\",\"Meghana\",\"Anjali\",\"Sirisha\",\"Sahiti\",\"Geetha\"]\n",
    "print(students)\n",
    "print(students[9])\n",
    "students.append(\"Sampath\")\n",
    "print(students)\n",
    "students.pop(4)\n",
    "print(students)"
   ]
  },
  {
   "cell_type": "markdown",
   "id": "928f0bcd",
   "metadata": {},
   "source": [
    "Append-> By this mmethod we can add item in the end of the list.\n",
    "         At the time we can add only one item.\n",
    "         It is not work without list.\n",
    "         "
   ]
  },
  {
   "cell_type": "code",
   "execution_count": 2,
   "id": "326828d8",
   "metadata": {},
   "outputs": [
    {
     "name": "stdout",
     "output_type": "stream",
     "text": [
      "['The Way of Kings']\n",
      "['The Way of Kings', 'The Name of the Wind', 'The Final Empire', 'The Hero of Ages', 'The Well of Ascension']\n"
     ]
    }
   ],
   "source": [
    "books=[]\n",
    "books.append(\"The Way of Kings\")\n",
    "print(books)    \n",
    "books.append(\"The Name of the Wind\")\n",
    "books.append(\"The Final Empire\")\n",
    "books.append(\"The Hero of Ages\")\n",
    "books.append(\"The Well of Ascension\")   \n",
    "print(books)"
   ]
  },
  {
   "cell_type": "markdown",
   "id": "af85461e",
   "metadata": {},
   "source": [
    "Extend()-> Extend method is used to add more than one item to the list\n",
    "        -> We can combine two different Lists\n",
    "\n",
    "\n"
   ]
  },
  {
   "cell_type": "code",
   "execution_count": 6,
   "id": "bf80eeeb",
   "metadata": {},
   "outputs": [
    {
     "name": "stdout",
     "output_type": "stream",
     "text": [
      "['Red', 'Green', 'Blue', 'Yellow', 'Black', 'White']\n",
      "['Red', 'Green', 'Blue', 'Yellow', 'Black', 'White', 'Cyan', 'Magenta', 'Pink']\n"
     ]
    }
   ],
   "source": [
    "colors=[\"Red\",\"Green\",\"Blue\",\"Yellow\"]\n",
    "colors.extend([\"Black\",\"White\"])\n",
    "print(colors)\n",
    "colors1=[\"Cyan\",\"Magenta\",\"Pink\"]\n",
    "colors.extend(colors1)\n",
    "print(colors)"
   ]
  },
  {
   "cell_type": "code",
   "execution_count": 7,
   "id": "d67e9b7e",
   "metadata": {},
   "outputs": [
    {
     "name": "stdout",
     "output_type": "stream",
     "text": [
      "[1, 2, 3, 4, 5, 6, 7, 8, 9, 10]\n"
     ]
    }
   ],
   "source": [
    "a=[]\n",
    "for i in range(1,11):\n",
    "    a.append(i)\n",
    "print(a)    "
   ]
  },
  {
   "cell_type": "code",
   "execution_count": 11,
   "id": "3cd36572",
   "metadata": {},
   "outputs": [
    {
     "name": "stdout",
     "output_type": "stream",
     "text": [
      "['eer', 'rre', 'fds', 'fds', 'ffd', 'gcf']\n"
     ]
    }
   ],
   "source": [
    "movies=[]\n",
    "for i in range(6):\n",
    "    movie=input(\"Enter the movie name:\")\n",
    "    movies.append(movie)\n",
    "print(movies)"
   ]
  },
  {
   "cell_type": "markdown",
   "id": "9fb5231b",
   "metadata": {},
   "source": [
    "Insert()-> Insert function is used to insert a item whereever we want by index value \n",
    "syntax->x.insert(0,1)\n",
    "x-> list name"
   ]
  },
  {
   "cell_type": "code",
   "execution_count": 16,
   "id": "3ccfdd67",
   "metadata": {},
   "outputs": [
    {
     "name": "stdout",
     "output_type": "stream",
     "text": [
      "[6, 1, 5, 10]\n"
     ]
    }
   ],
   "source": [
    "x=[1,5,10]\n",
    "x.insert(0,6)\n",
    "print(x)"
   ]
  }
 ],
 "metadata": {
  "kernelspec": {
   "display_name": "Python 3",
   "language": "python",
   "name": "python3"
  },
  "language_info": {
   "codemirror_mode": {
    "name": "ipython",
    "version": 3
   },
   "file_extension": ".py",
   "mimetype": "text/x-python",
   "name": "python",
   "nbconvert_exporter": "python",
   "pygments_lexer": "ipython3",
   "version": "3.11.2"
  }
 },
 "nbformat": 4,
 "nbformat_minor": 5
}
