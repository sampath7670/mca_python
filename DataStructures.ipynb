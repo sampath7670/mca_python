{
 "cells": [
  {
   "cell_type": "code",
   "execution_count": 22,
   "id": "8aa81995",
   "metadata": {},
   "outputs": [
    {
     "name": "stdout",
     "output_type": "stream",
     "text": [
      "<class 'list'> []\n",
      "[1, 2, 3, 4, 5]\n",
      "['Apple', 'Banana', 'Mango']\n",
      "[1, 2, 3, 4, 5, 6]\n",
      "[1, 1, 1, 1, 1, 1, 1, 1, 1, 1]\n",
      "[1, 2, 1, 2, 1, 2, 1, 2, 1, 2]\n",
      "[1, 1, 1, 1, 1, 1, 1, 1, 1, 1]\n",
      "[1, 1, 1, 1, 1, 1, 1, 1, 1, 1, 1, 1, 1, 1, 1, 1, 1, 1, 1, 1]\n",
      "[1, 1, 1, 1, 1, 1, 1, 1, 1, 1]\n",
      "1111111111Apple\n",
      "Banana Mango\n"
     ]
    }
   ],
   "source": [
    "x=[]#Empty\n",
    "x=list()#empty\n",
    "print(type(x),x)\n",
    "y=[1,2,3,4,5]# Direct Initialization\n",
    "print(y)\n",
    "fruits=[]\n",
    "fruits.append('Apple')\n",
    "fruits.append('Banana')\n",
    "fruits.append('Mango')\n",
    "print(fruits)\n",
    "x=[1,2,3]\n",
    "y=[4,5,6]\n",
    "z=x+y #Concatinate list\n",
    "print(z)\n",
    "#list of Duplicates\n",
    "a=[1]*10\n",
    "print(a)\n",
    "b=[1,2]*5\n",
    "print(b)\n",
    "c=a*2\n",
    "print(a)\n",
    "print(c)\n",
    "#Displaying\n",
    "print(a)\n",
    "#displaying Single item at a time\n",
    "for item in a:\n",
    "    print(item,end=\"\")\n",
    "#single element using index\n",
    "print(fruits[0])\n",
    "print(fruits[1],fruits[2])"
   ]
  },
  {
   "cell_type": "code",
   "execution_count": 25,
   "id": "e099fea4",
   "metadata": {},
   "outputs": [
    {
     "name": "stdout",
     "output_type": "stream",
     "text": [
      "['Bhargav', 'Sameer', 'Yaswanth', 'Vamsi', 'Ram', 'Ajay', 'Balaji', 'Abhi', 'Ruhi', 'Varsha', 'Sumithra', 'Jyoshna', 'Meghana', 'Anjali', 'Sirisha', 'Sahiti', 'Geetha']\n",
      "Varsha\n",
      "['Bhargav', 'Sameer', 'Yaswanth', 'Vamsi', 'Ram', 'Ajay', 'Balaji', 'Abhi', 'Ruhi', 'Varsha', 'Sumithra', 'Jyoshna', 'Meghana', 'Anjali', 'Sirisha', 'Sahiti', 'Geetha', 'Sampath']\n",
      "['Bhargav', 'Sameer', 'Yaswanth', 'Vamsi', 'Ajay', 'Balaji', 'Abhi', 'Ruhi', 'Varsha', 'Sumithra', 'Jyoshna', 'Meghana', 'Anjali', 'Sirisha', 'Sahiti', 'Geetha', 'Sampath']\n"
     ]
    }
   ],
   "source": [
    "students=[\"Bhargav\",\"Sameer\",\"Yaswanth\",\"Vamsi\",\"Ram\",\"Ajay\",\"Balaji\",\"Abhi\",\"Ruhi\",\"Varsha\",\"Sumithra\",\"Jyoshna\",\"Meghana\",\"Anjali\",\"Sirisha\",\"Sahiti\",\"Geetha\"]\n",
    "print(students)\n",
    "print(students[9])\n",
    "students.append(\"Sampath\")\n",
    "print(students)\n",
    "students.pop(4)\n",
    "print(students)"
   ]
  },
  {
   "cell_type": "markdown",
   "id": "928f0bcd",
   "metadata": {},
   "source": [
    "Append-> By this mmethod we can add item in the end of the list.\n",
    "         At the time we can add only one item.\n",
    "         It is not work without list.\n",
    "         "
   ]
  },
  {
   "cell_type": "code",
   "execution_count": 2,
   "id": "326828d8",
   "metadata": {},
   "outputs": [
    {
     "name": "stdout",
     "output_type": "stream",
     "text": [
      "['The Way of Kings']\n",
      "['The Way of Kings', 'The Name of the Wind', 'The Final Empire', 'The Hero of Ages', 'The Well of Ascension']\n"
     ]
    }
   ],
   "source": [
    "books=[]\n",
    "books.append(\"The Way of Kings\")\n",
    "print(books)    \n",
    "books.append(\"The Name of the Wind\")\n",
    "books.append(\"The Final Empire\")\n",
    "books.append(\"The Hero of Ages\")\n",
    "books.append(\"The Well of Ascension\")   \n",
    "print(books)"
   ]
  },
  {
   "cell_type": "markdown",
   "id": "af85461e",
   "metadata": {},
   "source": [
    "Extend()-> Extend method is used to add more than one item to the list\n",
    "        -> We can combine two different Lists\n",
    "\n",
    "\n"
   ]
  },
  {
   "cell_type": "code",
   "execution_count": 6,
   "id": "bf80eeeb",
   "metadata": {},
   "outputs": [
    {
     "name": "stdout",
     "output_type": "stream",
     "text": [
      "['Red', 'Green', 'Blue', 'Yellow', 'Black', 'White']\n",
      "['Red', 'Green', 'Blue', 'Yellow', 'Black', 'White', 'Cyan', 'Magenta', 'Pink']\n"
     ]
    }
   ],
   "source": [
    "colors=[\"Red\",\"Green\",\"Blue\",\"Yellow\"]\n",
    "colors.extend([\"Black\",\"White\"])\n",
    "print(colors)\n",
    "colors1=[\"Cyan\",\"Magenta\",\"Pink\"]\n",
    "colors.extend(colors1)\n",
    "print(colors)"
   ]
  },
  {
   "cell_type": "code",
   "execution_count": 7,
   "id": "d67e9b7e",
   "metadata": {},
   "outputs": [
    {
     "name": "stdout",
     "output_type": "stream",
     "text": [
      "[1, 2, 3, 4, 5, 6, 7, 8, 9, 10]\n"
     ]
    }
   ],
   "source": [
    "a=[]\n",
    "for i in range(1,11):\n",
    "    a.append(i)\n",
    "print(a)    "
   ]
  },
  {
   "cell_type": "code",
   "execution_count": 11,
   "id": "3cd36572",
   "metadata": {},
   "outputs": [
    {
     "name": "stdout",
     "output_type": "stream",
     "text": [
      "['eer', 'rre', 'fds', 'fds', 'ffd', 'gcf']\n"
     ]
    }
   ],
   "source": [
    "movies=[]\n",
    "for i in range(6):\n",
    "    movie=input(\"Enter the movie name:\")\n",
    "    movies.append(movie)\n",
    "print(movies)"
   ]
  },
  {
   "cell_type": "markdown",
   "id": "9fb5231b",
   "metadata": {},
   "source": [
    "Insert()-> Insert function is used to insert a item whereever we want by index value \n",
    "syntax->x.insert(0,1)\n",
    "x-> list name"
   ]
  },
  {
   "cell_type": "code",
   "execution_count": 16,
   "id": "3ccfdd67",
   "metadata": {},
   "outputs": [
    {
     "name": "stdout",
     "output_type": "stream",
     "text": [
      "[6, 1, 5, 10]\n"
     ]
    }
   ],
   "source": [
    "x=[1,5,10]\n",
    "x.insert(0,6)\n",
    "print(x)"
   ]
  },
  {
   "cell_type": "markdown",
   "id": "07142906",
   "metadata": {},
   "source": [
    "Adding Elements\n",
    "-------------------\n",
    "append()->add one element to the end of the list\n",
    "insert()->add one element to a specific position\n",
    "extend()->append multiple items in a list\n",
    "\n",
    "removing Elements\n",
    "-----------------\n",
    "pop()->remove and return an element from an index\n",
    "\n",
    "remove()->remove the first occurance value\n",
    "\n",
    "clear()->remove all elements from the list"
   ]
  },
  {
   "cell_type": "code",
   "execution_count": 2,
   "id": "0d7b096d",
   "metadata": {},
   "outputs": [
    {
     "name": "stdout",
     "output_type": "stream",
     "text": [
      "[1, 10]\n"
     ]
    }
   ],
   "source": [
    "x=[1,5,10]\n",
    "x.remove(5)\n",
    "print(x)"
   ]
  },
  {
   "cell_type": "code",
   "execution_count": 3,
   "id": "e0d05ba1",
   "metadata": {},
   "outputs": [
    {
     "name": "stdout",
     "output_type": "stream",
     "text": [
      "[5, 10]\n"
     ]
    }
   ],
   "source": [
    "x=[1,5,10]\n",
    "x.pop(0)\n",
    "print(x)"
   ]
  },
  {
   "cell_type": "code",
   "execution_count": 4,
   "id": "7fade559",
   "metadata": {},
   "outputs": [
    {
     "name": "stdout",
     "output_type": "stream",
     "text": [
      "[]\n"
     ]
    }
   ],
   "source": [
    "x=[1,5,10]\n",
    "x.clear()\n",
    "print(x)"
   ]
  },
  {
   "cell_type": "code",
   "execution_count": 6,
   "id": "3f5a7cf2",
   "metadata": {},
   "outputs": [
    {
     "name": "stdout",
     "output_type": "stream",
     "text": [
      "[1, 1, 2, 3, 5, 6, 8, 10]\n"
     ]
    }
   ],
   "source": [
    "x=[1,5,10,2,3,6,1,8]\n",
    "x.sort()\n",
    "print(x)"
   ]
  },
  {
   "cell_type": "code",
   "execution_count": 18,
   "id": "728bcaa1",
   "metadata": {},
   "outputs": [
    {
     "name": "stdout",
     "output_type": "stream",
     "text": [
      "How many Books In the list : 10\n",
      "[' Way of Kings', ' Name of the Wind', ' Final Empire', ' Hero of Ages', 'Well of Ascension', 'wind and truth', 'King of thrones', 'House of the Dragon', 'OathBringer']\n"
     ]
    }
   ],
   "source": [
    "books=[\" Way of Kings\",\" Name of the Wind\",\" Final Empire\",\" Hero of Ages\",\"Well of Ascension\",\n",
    "       \"wind and truth\",\"King of thrones\",\"Game of thrones\",\"House of the Dragon\",\"OathBringer\"]\n",
    "print('How many Books In the list :',len(books))\n",
    "\n",
    "books.remove(\"Game of thrones\")\n",
    "print(books)\n",
    "\n",
    "\n"
   ]
  },
  {
   "cell_type": "code",
   "execution_count": 21,
   "id": "d7f0acf5",
   "metadata": {},
   "outputs": [
    {
     "name": "stdout",
     "output_type": "stream",
     "text": [
      "[' Way of Kings', ' Name of the Wind', ' Final Empire', ' Hero of Ages', 'Well of Ascension', 'wind and truth', 'King of thrones', 'House of the Dragon', 'OathBringer']\n"
     ]
    }
   ],
   "source": [
    "if \"Name of the Wind\" in books:\n",
    "    books.remove(\"Name of the Wind\")\n",
    "print(books)"
   ]
  },
  {
   "cell_type": "code",
   "execution_count": 22,
   "id": "9a2decf4",
   "metadata": {},
   "outputs": [
    {
     "name": "stdout",
     "output_type": "stream",
     "text": [
      "[' Way of Kings', ' Name of the Wind', ' Final Empire', ' Hero of Ages', 'Well of Ascension', 'wind and truth', 'King of thrones', 'House of the Dragon', 'OathBringer']\n"
     ]
    }
   ],
   "source": [
    "print(books)"
   ]
  },
  {
   "cell_type": "code",
   "execution_count": 26,
   "id": "36aa060b",
   "metadata": {},
   "outputs": [
    {
     "data": {
      "text/plain": [
       "' Hero of Ages'"
      ]
     },
     "execution_count": 26,
     "metadata": {},
     "output_type": "execute_result"
    }
   ],
   "source": [
    "books.pop(2)"
   ]
  },
  {
   "cell_type": "code",
   "execution_count": 28,
   "id": "2b286e7c",
   "metadata": {},
   "outputs": [
    {
     "data": {
      "text/plain": [
       "'OathBringer'"
      ]
     },
     "execution_count": 28,
     "metadata": {},
     "output_type": "execute_result"
    }
   ],
   "source": [
    "books.pop()"
   ]
  },
  {
   "cell_type": "code",
   "execution_count": 29,
   "id": "e5343d5c",
   "metadata": {},
   "outputs": [
    {
     "name": "stdout",
     "output_type": "stream",
     "text": [
      "6\n"
     ]
    }
   ],
   "source": [
    "print(len(books))"
   ]
  },
  {
   "cell_type": "code",
   "execution_count": 38,
   "id": "3bb0f08c",
   "metadata": {},
   "outputs": [
    {
     "name": "stdout",
     "output_type": "stream",
     "text": [
      "['Python', 'Java', 'C', 'C++', 'JavaScript', 'Ruby', 'Go', 'Swift', 'Kotlin', 'PHP']\n",
      "[1, 4, 2, 3, 5, 78, 9, 65, 3, 5, 77, 12, 87, 24, 4, 8, 43, 78, 78, 57, 432, 235, 7]\n",
      "[1, 'banana', 'apple', 65, 'carraot']\n",
      "10\n",
      "23\n",
      "5\n"
     ]
    }
   ],
   "source": [
    "languages=[\"Python\",\"Java\",\"C\",\"C++\",\"JavaScript\",\"Ruby\",\"Go\",\"Swift\",\"Kotlin\",\"PHP\"]\n",
    "numbers=[1,4,2,3,5,78,9,65,3,5,77,12,87,24,4,8,43,78,78,57,432,235,7]\n",
    "data=[1,\"banana\",'apple',65,\"carraot\"]\n",
    "\n",
    "print(languages)\n",
    "print(numbers)\n",
    "print(data)\n",
    "print(len(languages))\n",
    "print(len(numbers))\n",
    "print(len(data))\n",
    "#print(numbers.count(78))"
   ]
  },
  {
   "cell_type": "code",
   "execution_count": 45,
   "id": "67b237b6",
   "metadata": {},
   "outputs": [
    {
     "name": "stdout",
     "output_type": "stream",
     "text": [
      "3\n",
      "2\n",
      "0\n"
     ]
    }
   ],
   "source": [
    "print(numbers.count(78))\n",
    "print(numbers.count(4))\n",
    "print(numbers.count(0))\n"
   ]
  },
  {
   "cell_type": "code",
   "execution_count": 46,
   "id": "74b41425",
   "metadata": {},
   "outputs": [
    {
     "data": {
      "text/plain": [
       "1"
      ]
     },
     "execution_count": 46,
     "metadata": {},
     "output_type": "execute_result"
    }
   ],
   "source": [
    "languages.index(\"Java\")"
   ]
  },
  {
   "cell_type": "code",
   "execution_count": 50,
   "id": "0b8b36a1",
   "metadata": {},
   "outputs": [
    {
     "name": "stdout",
     "output_type": "stream",
     "text": [
      "Before Sorting: ['C', 'C++', 'Go', 'Java', 'JavaScript', 'Kotlin', 'PHP', 'Python', 'Ruby', 'Swift']\n",
      "After Sorting: ['C', 'C++', 'Go', 'Java', 'JavaScript', 'Kotlin', 'PHP', 'Python', 'Ruby', 'Swift']\n"
     ]
    }
   ],
   "source": [
    "print(\"Before Sorting:\",languages)\n",
    "languages.sort()\n",
    "print(\"After Sorting:\",languages)"
   ]
  },
  {
   "cell_type": "code",
   "execution_count": 44,
   "id": "f50c5472",
   "metadata": {},
   "outputs": [
    {
     "name": "stdout",
     "output_type": "stream",
     "text": [
      "[1, 2, 3, 3, 4, 4, 5, 5, 7, 8, 9, 12, 24, 43, 57, 65, 77, 78, 78, 78, 87, 235, 432]\n"
     ]
    }
   ],
   "source": [
    "numbers.sort()\n",
    "print(numbers)"
   ]
  },
  {
   "cell_type": "code",
   "execution_count": 47,
   "id": "2410a4b6",
   "metadata": {},
   "outputs": [
    {
     "name": "stdout",
     "output_type": "stream",
     "text": [
      "[432, 235, 87, 78, 78, 78, 77, 65, 57, 43, 24, 12, 9, 8, 7, 5, 5, 4, 4, 3, 3, 2, 1]\n"
     ]
    }
   ],
   "source": [
    "numbers.reverse()\n",
    "print(numbers)"
   ]
  },
  {
   "cell_type": "code",
   "execution_count": 2,
   "id": "fdc6e71b",
   "metadata": {},
   "outputs": [
    {
     "name": "stdout",
     "output_type": "stream",
     "text": [
      "['Apple', 'Mango', 'Jack Fruit', 'Game of Thrones', 'Mirzapur', 'Tomato', 'Potato', 'Pomato']\n"
     ]
    }
   ],
   "source": [
    "fruits=[\"Apple\",\"Mango\",\"Jack Fruit\"]\n",
    "series=[\"Game of Thrones\",\"Mirzapur\"]\n",
    "veggies=[\"Tomato\",\"Potato\",\"Pomato\"]\n",
    "\n",
    "items=fruits+series+veggies\n",
    "print(items)"
   ]
  },
  {
   "cell_type": "markdown",
   "id": "53677828",
   "metadata": {},
   "source": [
    "Nested List\n",
    "\n",
    "list within list"
   ]
  },
  {
   "cell_type": "code",
   "execution_count": 3,
   "id": "9a4f8edd",
   "metadata": {},
   "outputs": [
    {
     "name": "stdout",
     "output_type": "stream",
     "text": [
      "[]\n",
      "[[]]\n"
     ]
    }
   ],
   "source": [
    "x=[]\n",
    "x2=[[]]\n",
    "print(x)\n",
    "print(x2)\n",
    "\n"
   ]
  },
  {
   "cell_type": "code",
   "execution_count": 4,
   "id": "6c38f946",
   "metadata": {},
   "outputs": [
    {
     "name": "stdout",
     "output_type": "stream",
     "text": [
      "[1, 2, 3]\n"
     ]
    }
   ],
   "source": [
    "x.append(1)\n",
    "x.append(2)\n",
    "x.append(3)\n",
    "print(x)"
   ]
  },
  {
   "cell_type": "code",
   "execution_count": 22,
   "id": "702dfea4",
   "metadata": {},
   "outputs": [
    {
     "name": "stdout",
     "output_type": "stream",
     "text": [
      "[[], 1, 1, [1, 2, 3], [4, 5, 6], 1, [1, 2, 3], [4, 5, 6]]\n"
     ]
    }
   ],
   "source": [
    "x2.append(1)\n",
    "x2.append([1,2,3])\n",
    "x2.append([4,5,6])\n",
    "print(x2)\n"
   ]
  },
  {
   "cell_type": "code",
   "execution_count": 27,
   "id": "7667b9c4",
   "metadata": {},
   "outputs": [
    {
     "name": "stdout",
     "output_type": "stream",
     "text": [
      "[[], 1, [1, 2, 3], [4, 5, 6]]\n"
     ]
    }
   ],
   "source": [
    "print(x2)"
   ]
  },
  {
   "cell_type": "code",
   "execution_count": 34,
   "id": "645014e6",
   "metadata": {},
   "outputs": [
    {
     "name": "stdout",
     "output_type": "stream",
     "text": [
      "[['red', 'green', 'blue'], ['Apple', 'Banana', 'mango'], [1, 2, 3]]\n",
      "Size of the list 3\n",
      "Size of the list at index 0 Length-> 3 => ['red', 'green', 'blue']\n",
      "Size of the list at index 1 Length-> 3 => ['Apple', 'Banana', 'mango']\n",
      "Size of the list at index 2 Length-> 3 => [1, 2, 3]\n",
      "Element 0 as list 0 is: red\n",
      "Element 2 as list 0 is: blue\n",
      "Element 0 as list 1 is: Apple\n",
      "Element 1 as list 1 is: Banana\n",
      "Element 3 as list 2 is: 3\n"
     ]
    }
   ],
   "source": [
    "items=[['red','green','blue'],\n",
    "       ['Apple','Banana','mango'],\n",
    "       [1,2,3]\n",
    "       ]\n",
    "print(items)\n",
    "print(\"Size of the list\",len(items))\n",
    "print (\"Size of the list at index 0\", \"Length->\",len(items[0]),\"=>\",items[0])\n",
    "print (\"Size of the list at index 1\",\"Length->\",len(items[1]),\"=>\",items[1])\n",
    "print (\"Size of the list at index 2\",\"Length->\",len(items[2]),\"=>\",items[2])\n",
    "print(\"Element 0 as list 0 is:\", items[0][0])\n",
    "print(\"Element 2 as list 0 is:\", items[0][2])\n",
    "print(\"Element 0 as list 1 is:\", items[1][0])\n",
    "print(\"Element 1 as list 1 is:\", items[1][1])\n",
    "print(\"Element 3 as list 2 is:\", items[2][2])\n",
    "\n"
   ]
  },
  {
   "cell_type": "code",
   "execution_count": 37,
   "id": "df8a6297",
   "metadata": {},
   "outputs": [
    {
     "name": "stdout",
     "output_type": "stream",
     "text": [
      "[[12, 23, 45, 25], [85, 95, 105, 115], [30, 32, 63, 9]]\n"
     ]
    }
   ],
   "source": [
    "matrix=[[12,23,45,25],\n",
    "         [85,95,105,115],\n",
    "         [30,32,63,9]]\n",
    "print(matrix)"
   ]
  },
  {
   "cell_type": "code",
   "execution_count": 43,
   "id": "ba30287e",
   "metadata": {},
   "outputs": [
    {
     "name": "stdout",
     "output_type": "stream",
     "text": [
      "45\n",
      "105\n",
      "63\n",
      "9\n"
     ]
    }
   ],
   "source": [
    "print(matrix[0][2])\n",
    "print(matrix[1][2])\n",
    "print(matrix[2][2])\n",
    "print(matrix[2][3])\n"
   ]
  },
  {
   "cell_type": "code",
   "execution_count": 57,
   "id": "43998a22",
   "metadata": {},
   "outputs": [
    {
     "name": "stdout",
     "output_type": "stream",
     "text": [
      "12\n",
      "23\n",
      "45\n",
      "25\n",
      "85\n",
      "95\n",
      "105\n",
      "115\n",
      "30\n",
      "32\n",
      "63\n",
      "9\n"
     ]
    }
   ],
   "source": [
    "for i in matrix:\n",
    "    for j in i:\n",
    "        print(j)"
   ]
  },
  {
   "cell_type": "code",
   "execution_count": 47,
   "id": "c5014dad",
   "metadata": {},
   "outputs": [
    {
     "name": "stdout",
     "output_type": "stream",
     "text": [
      "[12, 23, 45, 25][12, 23, 45, 25][12, 23, 45, 25][12, 23, 45, 25][85, 95, 105, 115][85, 95, 105, 115][85, 95, 105, 115][85, 95, 105, 115][30, 32, 63, 9][30, 32, 63, 9][30, 32, 63, 9][30, 32, 63, 9]"
     ]
    }
   ],
   "source": [
    "for j in matrix:\n",
    "    for value in j:\n",
    "        print(j ,end='')"
   ]
  },
  {
   "cell_type": "code",
   "execution_count": 48,
   "id": "ecd5bd38",
   "metadata": {},
   "outputs": [
    {
     "name": "stdout",
     "output_type": "stream",
     "text": [
      "12234525\n",
      "8595105115\n",
      "3032639\n"
     ]
    }
   ],
   "source": [
    "for row in matrix:\n",
    "    for val in row:\n",
    "        print(val,end='')\n",
    "    print()"
   ]
  },
  {
   "cell_type": "code",
   "execution_count": 49,
   "id": "db356c5b",
   "metadata": {},
   "outputs": [
    {
     "name": "stdout",
     "output_type": "stream",
     "text": [
      "639\n"
     ]
    }
   ],
   "source": [
    "# WaP to print the sum of all the values in matrix\n",
    "\n",
    "total=0\n",
    "for i in matrix:\n",
    "    for j in i:\n",
    "        total += j\n",
    "print(total)\n"
   ]
  },
  {
   "cell_type": "code",
   "execution_count": 52,
   "id": "7f449d85",
   "metadata": {},
   "outputs": [
    {
     "name": "stdout",
     "output_type": "stream",
     "text": [
      "16479558288900000000\n"
     ]
    }
   ],
   "source": [
    "#wap to print the product of all the values in matrix\n",
    "total=1\n",
    "for i in matrix:\n",
    "    for j in i:\n",
    "        total *= j\n",
    "print(total)\n"
   ]
  },
  {
   "cell_type": "code",
   "execution_count": 59,
   "id": "0b10ff61",
   "metadata": {},
   "outputs": [
    {
     "name": "stdout",
     "output_type": "stream",
     "text": [
      "[12, 23, 45, 25] => 105\n",
      "[85, 95, 105, 115] => 400\n",
      "[30, 32, 63, 9] => 134\n"
     ]
    }
   ],
   "source": [
    "#Wap to print row wise sum of matrix\n",
    "\n",
    "for i in matrix:\n",
    "    total=0\n",
    "    for j in i:\n",
    "        total +=j\n",
    "    print(i,'=>',total)"
   ]
  },
  {
   "cell_type": "code",
   "execution_count": 83,
   "id": "c06db9cf",
   "metadata": {},
   "outputs": [
    {
     "name": "stdout",
     "output_type": "stream",
     "text": [
      "[12, 23, 45, 25] => Total => 105 Avg=> 26.25\n",
      "[85, 95, 105, 115] => Total => 400 Avg=> 100.0\n",
      "[30, 32, 63, 9] => Total => 134 Avg=> 33.5\n"
     ]
    }
   ],
   "source": [
    "# wap to print row wise avg of the values\n",
    "for i in matrix:\n",
    "    total=0\n",
    "    for j in i:\n",
    "        total +=j\n",
    "    \n",
    "    avg=total/4\n",
    "    print(i,'=>','Total','=>',total,'Avg=>',avg)"
   ]
  },
  {
   "cell_type": "code",
   "execution_count": 85,
   "id": "739adbc4",
   "metadata": {},
   "outputs": [
    {
     "name": "stdout",
     "output_type": "stream",
     "text": [
      "[12, 23, 45, 25] => Total => 105 Avg=> 26.2\n",
      "[85, 95, 105, 115] => Total => 400 Avg=> 100.0\n",
      "[30, 32, 63, 9] => Total => 134 Avg=> 33.5\n"
     ]
    }
   ],
   "source": [
    "# wap to print row wise avg of the values\n",
    "for i in matrix:\n",
    "    total=0\n",
    "    for j in i:\n",
    "        total +=j\n",
    "        avg=round(total/len(i),1)\n",
    "    print(i,'=>','Total','=>',total,'Avg=>',avg)"
   ]
  },
  {
   "cell_type": "code",
   "execution_count": null,
   "id": "88e3d6c2",
   "metadata": {},
   "outputs": [
    {
     "name": "stdout",
     "output_type": "stream",
     "text": [
      "The sum of column wise => 127\n",
      "The sum of column wise => 150\n",
      "The sum of column wise => 213\n",
      "The sum of column wise => 149\n"
     ]
    }
   ],
   "source": [
    "#wap to print column wise avg of the values\n",
    "size=len(matrix[0])\n",
    "for i in range(size):\n",
    "    total=0\n",
    "    for j in range(len(matrix)):\n",
    "        total += matrix[j][i]\n",
    "       \n",
    "    print(\"The sum of column wise =>\",total)\n",
    "\n",
    "\n"
   ]
  },
  {
   "cell_type": "code",
   "execution_count": 95,
   "id": "73aa71d6",
   "metadata": {},
   "outputs": [
    {
     "name": "stdout",
     "output_type": "stream",
     "text": [
      "The sum of column wise => 127 The avg of column: 31.75\n",
      "The sum of column wise => 150 The avg of column: 37.5\n",
      "The sum of column wise => 213 The avg of column: 53.25\n",
      "The sum of column wise => 149 The avg of column: 37.25\n"
     ]
    }
   ],
   "source": [
    "size=len(matrix[0])\n",
    "for i in range(size):\n",
    "    total=0\n",
    "    for j in range(len(matrix)):\n",
    "        total += matrix[j][i]\n",
    "        avg=total/size\n",
    "    print(\"The sum of column wise =>\",total,'The avg of column:',avg)"
   ]
  },
  {
   "cell_type": "code",
   "execution_count": 104,
   "id": "0e99fa0a",
   "metadata": {},
   "outputs": [
    {
     "name": "stdout",
     "output_type": "stream",
     "text": [
      "1 \n",
      "5 6 \n",
      "9 10 11 \n",
      "13 14 15 16 \n"
     ]
    }
   ],
   "source": [
    "# wap to print lower bound triangle of a matrix\n",
    "\n",
    "mat2=[[1,2,3,4],\n",
    "      [5,6,7,8],\n",
    "      [9,10,11,12],\n",
    "      [13,14,15,16]\n",
    "      ]\n",
    "for i in range(len(mat2)):\n",
    "    for j in range(len(mat2[0])):\n",
    "        if (j<=i):\n",
    "            print(mat2[i][j], end=' ')\n",
    "    print()\n",
    "\n",
    "    \n"
   ]
  }
 ],
 "metadata": {
  "kernelspec": {
   "display_name": "Python 3",
   "language": "python",
   "name": "python3"
  },
  "language_info": {
   "codemirror_mode": {
    "name": "ipython",
    "version": 3
   },
   "file_extension": ".py",
   "mimetype": "text/x-python",
   "name": "python",
   "nbconvert_exporter": "python",
   "pygments_lexer": "ipython3",
   "version": "3.11.2"
  }
 },
 "nbformat": 4,
 "nbformat_minor": 5
}
