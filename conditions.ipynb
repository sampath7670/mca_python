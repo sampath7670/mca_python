{
 "cells": [
  {
   "cell_type": "code",
   "execution_count": 4,
   "id": "eb8f1398",
   "metadata": {},
   "outputs": [
    {
     "name": "stdout",
     "output_type": "stream",
     "text": [
      "value=> 136\n",
      "the Given Number is Greater Than 100\n"
     ]
    }
   ],
   "source": [
    "data=int(input(\"Enter Data:\"))\n",
    "print(f\"value=> {data}\")\n",
    "if data>100:\n",
    "   print(\"the Given Number is Greater Than 100\")\n",
    "else:\n",
    "   print(\"The given number is less than 100\")\n"
   ]
  },
  {
   "cell_type": "code",
   "execution_count": 18,
   "id": "027f9c31",
   "metadata": {},
   "outputs": [
    {
     "name": "stdout",
     "output_type": "stream",
     "text": [
      "You see a Apple Seller\n",
      "Purchase 2Kg Apples\n"
     ]
    }
   ],
   "source": [
    "print(\"You see a Apple Seller\")\n",
    "A=input(\"Do You Like To Purchase 🍎 :\")\n",
    "\n",
    "if A == \"Yes\":\n",
    "    print(\"Purchase 2Kg Apples\")\n",
    "if A == \"No\":\n",
    "    print(\"You Don't Purchase Apples\")"
   ]
  },
  {
   "cell_type": "code",
   "execution_count": null,
   "id": "abd87221",
   "metadata": {},
   "outputs": [],
   "source": []
  },
  {
   "cell_type": "code",
   "execution_count": 14,
   "id": "c8c8a6d4",
   "metadata": {},
   "outputs": [
    {
     "name": "stdout",
     "output_type": "stream",
     "text": [
      "You see a Apple Seller\n",
      "Purchase 2Kg Apples\n"
     ]
    }
   ],
   "source": [
    "print(\"You see a Apple Seller\")\n",
    "A=input(\"Do You Like To Purchase Apples:\")\n",
    "\n",
    "if A == \"Yes\":\n",
    "    print(\"Purchase 2Kg Apples\")\n",
    "else:\n",
    "    print(\"You Don't Purchase Apples\")"
   ]
  },
  {
   "cell_type": "code",
   "execution_count": 15,
   "id": "0f9a8511",
   "metadata": {},
   "outputs": [
    {
     "name": "stdout",
     "output_type": "stream",
     "text": [
      "You see a Apple Seller\n",
      "You Don't Purchase Apples\n"
     ]
    }
   ],
   "source": [
    "print(\"You see a Apple Seller\")\n",
    "A=input(\"Do You Like To Purchase Apples:\")\n",
    "\n",
    "if A == \"Yes\":\n",
    "    print(\"Purchase 2Kg Apples\")\n",
    "else:\n",
    "    print(\"You Don't Purchase Apples\")"
   ]
  },
  {
   "cell_type": "code",
   "execution_count": 16,
   "id": "c2209826",
   "metadata": {},
   "outputs": [
    {
     "name": "stdout",
     "output_type": "stream",
     "text": [
      "You see a Apple Seller\n"
     ]
    }
   ],
   "source": [
    "print(\"You see a Apple Seller\")\n",
    "A=input(\"Do You Like To Purchase Apples:\")\n",
    "\n",
    "if A == \"Yes\":\n",
    "    print(\"Purchase 2Kg Apples\")\n",
    "if A == \"No\":\n",
    "    print(\"You Don't Purchase Apples\")"
   ]
  },
  {
   "cell_type": "code",
   "execution_count": 23,
   "id": "6273bff6",
   "metadata": {},
   "outputs": [
    {
     "ename": "NameError",
     "evalue": "name 'da' is not defined",
     "output_type": "error",
     "traceback": [
      "\u001b[1;31m---------------------------------------------------------------------------\u001b[0m",
      "\u001b[1;31mNameError\u001b[0m                                 Traceback (most recent call last)",
      "Cell \u001b[1;32mIn[23], line 4\u001b[0m\n\u001b[0;32m      2\u001b[0m \u001b[38;5;28;01mif\u001b[39;00m salary \u001b[38;5;241m>\u001b[39m \u001b[38;5;241m50000\u001b[39m:\n\u001b[0;32m      3\u001b[0m     da \u001b[38;5;241m=\u001b[39m \u001b[38;5;241m.15\u001b[39m\n\u001b[1;32m----> 4\u001b[0m total \u001b[38;5;241m=\u001b[39m salary \u001b[38;5;241m+\u001b[39m salary \u001b[38;5;241m*\u001b[39m\u001b[43mda\u001b[49m\n\u001b[0;32m      5\u001b[0m \u001b[38;5;28mprint\u001b[39m(total)\n",
      "\u001b[1;31mNameError\u001b[0m: name 'da' is not defined"
     ]
    }
   ],
   "source": [
    "salary = 40000\n",
    "if salary > 50000:\n",
    "    da = .15\n",
    "total = salary + salary *da\n",
    "print(total)"
   ]
  },
  {
   "cell_type": "code",
   "execution_count": 16,
   "id": "348007d7",
   "metadata": {},
   "outputs": [],
   "source": [
    "del da"
   ]
  },
  {
   "cell_type": "code",
   "execution_count": 3,
   "id": "828b2b6d",
   "metadata": {},
   "outputs": [
    {
     "name": "stdout",
     "output_type": "stream",
     "text": [
      "40000\n"
     ]
    }
   ],
   "source": [
    "salary = 40000\n",
    "da=0\n",
    "if salary > 50000:\n",
    "    da = .15\n",
    "total = salary + salary *da\n",
    "print(total)"
   ]
  },
  {
   "cell_type": "code",
   "execution_count": null,
   "id": "8b6aee6a",
   "metadata": {},
   "outputs": [
    {
     "name": "stdout",
     "output_type": "stream",
     "text": [
      "43214\n"
     ]
    }
   ],
   "source": [
    "salary = int(input(\"Ënter Salary\"))\n",
    "if salary > 50000:\n",
    "    da=.15\n",
    "    total = salary + salary *da\n",
    "    \n",
    "else:\n",
    "    total=salary\n",
    "print(total)"
   ]
  },
  {
   "cell_type": "code",
   "execution_count": 18,
   "id": "adc5f04f",
   "metadata": {},
   "outputs": [
    {
     "name": "stdout",
     "output_type": "stream",
     "text": [
      "34567\n"
     ]
    }
   ],
   "source": [
    "salary = int(input(\"Ënter Salary:\"))\n",
    "if salary> 50000:\n",
    "    da=.15\n",
    "    total=salary + salary*da\n",
    "    print(total)\n",
    "else:\n",
    "    total=salary\n",
    "    print(total)"
   ]
  },
  {
   "cell_type": "code",
   "execution_count": 22,
   "id": "1c89f8b5",
   "metadata": {},
   "outputs": [
    {
     "name": "stdout",
     "output_type": "stream",
     "text": [
      "2\n"
     ]
    }
   ],
   "source": [
    "X=int(input(\"Enter X:\"))\n",
    "Y=int(input(\"Enter Y:\"))\n",
    "if X>Y:\n",
    "    a=X-Y\n",
    "else:\n",
    "    a=Y-X\n",
    "print(a)"
   ]
  },
  {
   "cell_type": "code",
   "execution_count": null,
   "id": "51cb0663",
   "metadata": {},
   "outputs": [],
   "source": []
  },
  {
   "cell_type": "code",
   "execution_count": null,
   "id": "5d33f215",
   "metadata": {},
   "outputs": [],
   "source": []
  },
  {
   "cell_type": "code",
   "execution_count": 3,
   "id": "9145d3ed",
   "metadata": {},
   "outputs": [
    {
     "name": "stdout",
     "output_type": "stream",
     "text": [
      "Short Movie:qwerwerrs\n",
      "The end\n"
     ]
    }
   ],
   "source": [
    "\n",
    "movie = input(\"Enter Fav Movie:\")\n",
    "if len(movie)>10:\n",
    "    print(f\"Long Movie Name:{movie}\")\n",
    "else:\n",
    "     print(f\"Short Movie:{movie}\")\n",
    "\n",
    "print(\"The end\")"
   ]
  },
  {
   "cell_type": "code",
   "execution_count": 4,
   "id": "a5f25b01",
   "metadata": {},
   "outputs": [
    {
     "name": "stdout",
     "output_type": "stream",
     "text": [
      "B is the Bigger\n"
     ]
    }
   ],
   "source": [
    "a=int(input(\"Enter First Number:\"))\n",
    "b=int(input(\"Enter Second Number:\"))\n",
    "c=int(input(\"Enter Third Number:\"))\n",
    "if a>b and a>c:\n",
    "    print(\"A Is Bigger\")\n",
    "elif b>a and b>c:\n",
    "    print(\"B is the Bigger\")\n",
    "else:\n",
    "    print(\"C Is The Bigger\")"
   ]
  },
  {
   "cell_type": "code",
   "execution_count": 13,
   "id": "b363aca2",
   "metadata": {},
   "outputs": [
    {
     "name": "stdout",
     "output_type": "stream",
     "text": [
      "What is the Capital Of India\n",
      "Your Are Correct\n"
     ]
    }
   ],
   "source": [
    "print(\"What is the Capital Of India\")\n",
    "Answer=input(\"Enter Answer\")\n",
    "if Answer ==\"Delhi\":\n",
    "    print(\"Your Are Correct\")\n",
    "if Answer ==\"New Delhi\":\n",
    "    print(\"You are Very Correct\")\n",
    "if Answer == \"I Don't Know\":\n",
    "    print(\"You must Be Sleeping under a rock\")\n",
    "if Answer == \"Shimla\":\n",
    "    print(\"You Must Be from Britain\")\n",
    "\n",
    "\n"
   ]
  },
  {
   "cell_type": "code",
   "execution_count": null,
   "id": "4c59348e",
   "metadata": {},
   "outputs": [
    {
     "name": "stdout",
     "output_type": "stream",
     "text": [
      "Your Failed 🎂\n"
     ]
    }
   ],
   "source": [
    "Marks=int(input(\"Enter Your Maths Marks in 10:\"))\n",
    "if Marks > 90:\n",
    "    print(\"Your Grade Is A\")\n",
    "if Marks > 75 and Marks<=89:\n",
    "    print(\"Your Grade Is B\")\n",
    "if Marks > 60 and Marks <=74:\n",
    "    print(\"Your Grade Is C\")\n",
    "if Marks > 40 and Marks <=59:\n",
    "    print(\"Your Grade Is D\")\n",
    "if Marks < 40:\n",
    "    print(\"Your Failed 🎂\")"
   ]
  },
  {
   "cell_type": "code",
   "execution_count": 18,
   "id": "9a2e32c0",
   "metadata": {},
   "outputs": [
    {
     "name": "stdout",
     "output_type": "stream",
     "text": [
      "Your Grade Is C\n"
     ]
    }
   ],
   "source": [
    "Marks=int(input(\"Enter Your Maths Marks in 10:\"))\n",
    "if Marks > 90:\n",
    "    print(\"Your Grade Is A\")\n",
    "elif Marks > 75 :\n",
    "    print(\"Your Grade Is B\")\n",
    "elif Marks > 60 :\n",
    "    print(\"Your Grade Is C\")\n",
    "elif Marks > 40 :\n",
    "    print(\"Your Grade Is D\")\n",
    "elif Marks < 40:\n",
    "    print(\"Your Failed 🎂\")"
   ]
  },
  {
   "cell_type": "code",
   "execution_count": 19,
   "id": "0709413f",
   "metadata": {},
   "outputs": [
    {
     "name": "stdout",
     "output_type": "stream",
     "text": [
      "Your Grade Is D\n"
     ]
    }
   ],
   "source": [
    "Marks=int(input(\"Enter Your Maths Marks in 10:\"))\n",
    "if Marks > 90:\n",
    "    print(\"Your Grade Is A\")\n",
    "if Marks > 75:\n",
    "    print(\"Your Grade Is B\")\n",
    "if Marks > 60 :\n",
    "    print(\"Your Grade Is C\")\n",
    "if Marks > 40 :\n",
    "    print(\"Your Grade Is D\")\n",
    "if Marks < 40:\n",
    "    print(\"Your Failed 🎂\")"
   ]
  },
  {
   "cell_type": "code",
   "execution_count": 21,
   "id": "9d4fe9d8",
   "metadata": {},
   "outputs": [
    {
     "name": "stdout",
     "output_type": "stream",
     "text": [
      "More than 15 Lakhs\n"
     ]
    }
   ],
   "source": [
    "Experience=int(input(\"Enter Your Experience:\"))\n",
    "if Experience>10:\n",
    "    print(\"More Than 30 Lakhs\")\n",
    "elif Experience>5:\n",
    "    print(\"More than 15 Lakhs\")\n",
    "elif Experience>3:\n",
    "    print(\"10 Lakhs\")\n",
    "elif Experience>0:\n",
    "    print(\"5 Lakhs\")"
   ]
  },
  {
   "cell_type": "code",
   "execution_count": 27,
   "id": "c26d1fbf",
   "metadata": {},
   "outputs": [
    {
     "name": "stdout",
     "output_type": "stream",
     "text": [
      "Frnd Salary=>12345\n",
      "Frnd Total=>22345\n"
     ]
    }
   ],
   "source": [
    "salary=int(input(\"Enter Your Friends Salary:\"))\n",
    "if salary>100000:\n",
    "    total= salary - salary*.2\n",
    "\n",
    "elif salary>80000:\n",
    "    total= salary - salary*.1\n",
    "elif salary>50000:\n",
    "    total= salary - salary*.05\n",
    "else:\n",
    "    total= salary+10000\n",
    "print(f'Frnd Salary=>{Salary}')\n",
    "print(f'Frnd Total=>{total}')"
   ]
  },
  {
   "cell_type": "code",
   "execution_count": 3,
   "id": "23ed9e1b",
   "metadata": {},
   "outputs": [
    {
     "name": "stdout",
     "output_type": "stream",
     "text": [
      "Today is Sunday 😆\n"
     ]
    }
   ],
   "source": [
    "day=input(\"What is the day Today:\")\n",
    "match day:\n",
    "    case \"Monday\"   : print(\"Today is Monday 😑\")\n",
    "    case \"Tuesday\"  : print(\"Today is Tuesday 😶\")\n",
    "    case \"Wednesday\": print(\"Today is Wednesday 😒\")\n",
    "    case \"Thursday\" : print(\"Today is Thursday 🫥\")\n",
    "    case \"Friday\"   : print(\"Today is Friday 😜\")\n",
    "    case \"Saturday\" : print(\"Today is Saturday 😀\")\n",
    "    case \"Sunday\"   : print(\"Today is Sunday 😆\")\n",
    "    case default    : print(\"It is not an Option\")"
   ]
  },
  {
   "cell_type": "code",
   "execution_count": null,
   "id": "793646bb",
   "metadata": {},
   "outputs": [
    {
     "name": "stdout",
     "output_type": "stream",
     "text": [
      "Tell me Movies\n",
      "Kanchana Masooda Virupaksha\n"
     ]
    }
   ],
   "source": [
    "print(\"Tell me Movies\")\n",
    "gener=input(\"What gener You Like\")\n",
    "match gener:\n",
    "    case \"Action\": print(\"Indra\",\"Chennakesava Reddy\",\"RRR\",\"Veera Simha Reddy\")\n",
    "    case \"Horror\": print(\"Kanchana\",\"Masooda\",\"Virupaksha\")\n",
    "    case \"Fantacy\" : print(\"Bahubali\",\"Hanuman\",\"Kalki\")\n",
    "    case \"Devotional\" : print(\"Annamayya\")\n",
    "    case default : print(\"You Should Not Watch Movies\")"
   ]
  },
  {
   "cell_type": "code",
   "execution_count": 15,
   "id": "cba5176e",
   "metadata": {},
   "outputs": [
    {
     "name": "stdout",
     "output_type": "stream",
     "text": [
      "Your Age is Above 19 Your Eligible For Vote\n",
      "Your not indian\n"
     ]
    }
   ],
   "source": [
    "Age=int(input(\"Enter Your Age:\"))\n",
    "Country=input(\"Enter Your Country:\")\n",
    "State=input(\"Enter Your State:\")\n",
    "if Age>=19:\n",
    "    print(\"Your Age is Above 19 Your Eligible For Vote\")\n",
    "    if Country==\"India\":\n",
    "        print(\"Your are an Indian Your Your Eligible\")\n",
    "        if State==\"Andhra Pradesh\":\n",
    "            print(\"Your From Andhra Pradesh Your Eligible For Vote\")\n",
    "            print(\"Your Eligible for vote\")\n",
    "        else:\n",
    "             print(\"Your Not Eligible For Vote! Because your not from Andhra Pradesh\")\n",
    "    else:\n",
    "        print(\"Your not indian\")\n",
    "else:\n",
    "    print(\"Your age is not 19\")\n"
   ]
  },
  {
   "cell_type": "code",
   "execution_count": 13,
   "id": "0d9b5a6b",
   "metadata": {},
   "outputs": [
    {
     "name": "stdout",
     "output_type": "stream",
     "text": [
      "You Dont Have A Brain\n"
     ]
    }
   ],
   "source": [
    "Ans=input(\"You see a bear ,Would like To Fight it Y/N:\")\n",
    "if Ans==\"N\":\n",
    "    print(\"You Escape and find a Lion\")\n",
    "    Ans2=input(\"You Want Fight it Y/N:\")\n",
    "    if Ans2==\"N\":\n",
    "        print(\"Escape again and find A car\")\n",
    "        Ans3=input(\"You Want Run the Car Y/N:\")\n",
    "        if Ans3==\"Y\":\n",
    "            print(\"You Escaped The Area\")\n",
    "        else:\n",
    "            print(\"The Bear And Lion Will catch You and Kill you\")\n",
    "    else:\n",
    "        print(\"Your Trying to Complecate Your Self\")\n",
    "else:\n",
    "    print(\"You Dont Have A Brain\")\n"
   ]
  },
  {
   "cell_type": "code",
   "execution_count": 14,
   "id": "a3b495ae",
   "metadata": {},
   "outputs": [
    {
     "name": "stdout",
     "output_type": "stream",
     "text": [
      "Total is Not Calculated\n"
     ]
    }
   ],
   "source": [
    "a,b,c=10,20,30\n",
    "if a>b:\n",
    "    if a>c:\n",
    "        total=a+b+c\n",
    "        if total >100:\n",
    "            print(f'The Total is Big value:{total}')\n",
    "        else:\n",
    "            print(f'The Total is Small value:{total}')\n",
    "    else:\n",
    "        total=c+b\n",
    "        print(f'The total is {total}')\n",
    "else:\n",
    "    print(\"Total is Not Calculated\")\n",
    "    "
   ]
  },
  {
   "cell_type": "code",
   "execution_count": null,
   "id": "03130b97",
   "metadata": {},
   "outputs": [
    {
     "name": "stdout",
     "output_type": "stream",
     "text": [
      "Hello\n",
      "Hello\n",
      "Hello\n",
      "Hello\n",
      "Hello\n",
      "Hello\n",
      "Hello\n",
      "Hello\n",
      "Hello\n",
      "Hello\n",
      "Hello\n",
      "Hello\n",
      "Hello\n",
      "Hello\n",
      "Hello\n",
      "Hello\n",
      "Hello\n",
      "Hello\n",
      "Hello\n",
      "Hello\n",
      "Hello\n",
      "Hello\n",
      "Hello\n",
      "Hello\n",
      "Hello\n",
      "Hello\n",
      "Hello\n",
      "Hello\n",
      "Hello\n",
      "Hello\n"
     ]
    }
   ],
   "source": []
  },
  {
   "cell_type": "code",
   "execution_count": null,
   "id": "07f49b16",
   "metadata": {},
   "outputs": [],
   "source": [
    "for i in range(1)"
   ]
  }
 ],
 "metadata": {
  "kernelspec": {
   "display_name": "Python 3",
   "language": "python",
   "name": "python3"
  },
  "language_info": {
   "codemirror_mode": {
    "name": "ipython",
    "version": 3
   },
   "file_extension": ".py",
   "mimetype": "text/x-python",
   "name": "python",
   "nbconvert_exporter": "python",
   "pygments_lexer": "ipython3",
   "version": "3.11.2"
  }
 },
 "nbformat": 4,
 "nbformat_minor": 5
}
