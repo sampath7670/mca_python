{
 "cells": [
  {
   "cell_type": "code",
   "execution_count": 4,
   "id": "eb8f1398",
   "metadata": {},
   "outputs": [
    {
     "name": "stdout",
     "output_type": "stream",
     "text": [
      "value=> 136\n",
      "the Given Number is Greater Than 100\n"
     ]
    }
   ],
   "source": [
    "data=int(input(\"Enter Data:\"))\n",
    "print(f\"value=> {data}\")\n",
    "if data>100:\n",
    "   print(\"the Given Number is Greater Than 100\")\n",
    "else:\n",
    "   print(\"The given number is less than 100\")\n"
   ]
  },
  {
   "cell_type": "code",
   "execution_count": 18,
   "id": "027f9c31",
   "metadata": {},
   "outputs": [
    {
     "name": "stdout",
     "output_type": "stream",
     "text": [
      "You see a Apple Seller\n",
      "Purchase 2Kg Apples\n"
     ]
    }
   ],
   "source": [
    "print(\"You see a Apple Seller\")\n",
    "A=input(\"Do You Like To Purchase 🍎 :\")\n",
    "\n",
    "if A == \"Yes\":\n",
    "    print(\"Purchase 2Kg Apples\")\n",
    "if A == \"No\":\n",
    "    print(\"You Don't Purchase Apples\")"
   ]
  },
  {
   "cell_type": "code",
   "execution_count": null,
   "id": "abd87221",
   "metadata": {},
   "outputs": [],
   "source": []
  },
  {
   "cell_type": "code",
   "execution_count": 14,
   "id": "c8c8a6d4",
   "metadata": {},
   "outputs": [
    {
     "name": "stdout",
     "output_type": "stream",
     "text": [
      "You see a Apple Seller\n",
      "Purchase 2Kg Apples\n"
     ]
    }
   ],
   "source": [
    "print(\"You see a Apple Seller\")\n",
    "A=input(\"Do You Like To Purchase Apples:\")\n",
    "\n",
    "if A == \"Yes\":\n",
    "    print(\"Purchase 2Kg Apples\")\n",
    "else:\n",
    "    print(\"You Don't Purchase Apples\")"
   ]
  },
  {
   "cell_type": "code",
   "execution_count": 15,
   "id": "0f9a8511",
   "metadata": {},
   "outputs": [
    {
     "name": "stdout",
     "output_type": "stream",
     "text": [
      "You see a Apple Seller\n",
      "You Don't Purchase Apples\n"
     ]
    }
   ],
   "source": [
    "print(\"You see a Apple Seller\")\n",
    "A=input(\"Do You Like To Purchase Apples:\")\n",
    "\n",
    "if A == \"Yes\":\n",
    "    print(\"Purchase 2Kg Apples\")\n",
    "else:\n",
    "    print(\"You Don't Purchase Apples\")"
   ]
  },
  {
   "cell_type": "code",
   "execution_count": 16,
   "id": "c2209826",
   "metadata": {},
   "outputs": [
    {
     "name": "stdout",
     "output_type": "stream",
     "text": [
      "You see a Apple Seller\n"
     ]
    }
   ],
   "source": [
    "print(\"You see a Apple Seller\")\n",
    "A=input(\"Do You Like To Purchase Apples:\")\n",
    "\n",
    "if A == \"Yes\":\n",
    "    print(\"Purchase 2Kg Apples\")\n",
    "if A == \"No\":\n",
    "    print(\"You Don't Purchase Apples\")"
   ]
  },
  {
   "cell_type": "code",
   "execution_count": 23,
   "id": "6273bff6",
   "metadata": {},
   "outputs": [
    {
     "ename": "NameError",
     "evalue": "name 'da' is not defined",
     "output_type": "error",
     "traceback": [
      "\u001b[1;31m---------------------------------------------------------------------------\u001b[0m",
      "\u001b[1;31mNameError\u001b[0m                                 Traceback (most recent call last)",
      "Cell \u001b[1;32mIn[23], line 4\u001b[0m\n\u001b[0;32m      2\u001b[0m \u001b[38;5;28;01mif\u001b[39;00m salary \u001b[38;5;241m>\u001b[39m \u001b[38;5;241m50000\u001b[39m:\n\u001b[0;32m      3\u001b[0m     da \u001b[38;5;241m=\u001b[39m \u001b[38;5;241m.15\u001b[39m\n\u001b[1;32m----> 4\u001b[0m total \u001b[38;5;241m=\u001b[39m salary \u001b[38;5;241m+\u001b[39m salary \u001b[38;5;241m*\u001b[39m\u001b[43mda\u001b[49m\n\u001b[0;32m      5\u001b[0m \u001b[38;5;28mprint\u001b[39m(total)\n",
      "\u001b[1;31mNameError\u001b[0m: name 'da' is not defined"
     ]
    }
   ],
   "source": [
    "salary = 40000\n",
    "if salary > 50000:\n",
    "    da = .15\n",
    "total = salary + salary *da\n",
    "print(total)"
   ]
  },
  {
   "cell_type": "code",
   "execution_count": 16,
   "id": "348007d7",
   "metadata": {},
   "outputs": [],
   "source": [
    "del da"
   ]
  },
  {
   "cell_type": "code",
   "execution_count": 3,
   "id": "828b2b6d",
   "metadata": {},
   "outputs": [
    {
     "name": "stdout",
     "output_type": "stream",
     "text": [
      "40000\n"
     ]
    }
   ],
   "source": [
    "salary = 40000\n",
    "da=0\n",
    "if salary > 50000:\n",
    "    da = .15\n",
    "total = salary + salary *da\n",
    "print(total)"
   ]
  },
  {
   "cell_type": "code",
   "execution_count": null,
   "id": "8b6aee6a",
   "metadata": {},
   "outputs": [
    {
     "name": "stdout",
     "output_type": "stream",
     "text": [
      "43214\n"
     ]
    }
   ],
   "source": [
    "salary = int(input(\"Ënter Salary\"))\n",
    "if salary > 50000:\n",
    "    da=.15\n",
    "    total = salary + salary *da\n",
    "    \n",
    "else:\n",
    "    total=salary\n",
    "print(total)"
   ]
  },
  {
   "cell_type": "code",
   "execution_count": 18,
   "id": "adc5f04f",
   "metadata": {},
   "outputs": [
    {
     "name": "stdout",
     "output_type": "stream",
     "text": [
      "34567\n"
     ]
    }
   ],
   "source": [
    "salary = int(input(\"Ënter Salary:\"))\n",
    "if salary> 50000:\n",
    "    da=.15\n",
    "    total=salary + salary*da\n",
    "    print(total)\n",
    "else:\n",
    "    total=salary\n",
    "    print(total)"
   ]
  },
  {
   "cell_type": "code",
   "execution_count": 22,
   "id": "1c89f8b5",
   "metadata": {},
   "outputs": [
    {
     "name": "stdout",
     "output_type": "stream",
     "text": [
      "2\n"
     ]
    }
   ],
   "source": [
    "X=int(input(\"Enter X:\"))\n",
    "Y=int(input(\"Enter Y:\"))\n",
    "if X>Y:\n",
    "    a=X-Y\n",
    "else:\n",
    "    a=Y-X\n",
    "print(a)"
   ]
  },
  {
   "cell_type": "code",
   "execution_count": null,
   "id": "51cb0663",
   "metadata": {},
   "outputs": [],
   "source": []
  },
  {
   "cell_type": "code",
   "execution_count": 32,
   "id": "9145d3ed",
   "metadata": {},
   "outputs": [
    {
     "name": "stdout",
     "output_type": "stream",
     "text": [
      "Short Movie:hgdtrygfgf\n",
      "The end\n"
     ]
    }
   ],
   "source": [
    "\n",
    "movie = input(\"Enter Fav Movie:\")\n",
    "if len(movie)>10:\n",
    "    print(f\"Long Movie Name:{movie}\")\n",
    "else:\n",
    "    print(f\"Short Movie:{movie}\")\n",
    "print(\"The end\")"
   ]
  }
 ],
 "metadata": {
  "kernelspec": {
   "display_name": "Python 3",
   "language": "python",
   "name": "python3"
  },
  "language_info": {
   "codemirror_mode": {
    "name": "ipython",
    "version": 3
   },
   "file_extension": ".py",
   "mimetype": "text/x-python",
   "name": "python",
   "nbconvert_exporter": "python",
   "pygments_lexer": "ipython3",
   "version": "3.11.2"
  }
 },
 "nbformat": 4,
 "nbformat_minor": 5
}
