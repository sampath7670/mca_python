{
 "cells": [
  {
   "cell_type": "code",
   "execution_count": 5,
   "id": "94f7eaae",
   "metadata": {},
   "outputs": [
    {
     "name": "stdout",
     "output_type": "stream",
     "text": [
      "50\n"
     ]
    },
    {
     "ename": "TypeError",
     "evalue": "area() missing 2 required positional arguments: 'l' and 'b'",
     "output_type": "error",
     "traceback": [
      "\u001b[1;31m---------------------------------------------------------------------------\u001b[0m",
      "\u001b[1;31mTypeError\u001b[0m                                 Traceback (most recent call last)",
      "Cell \u001b[1;32mIn[5], line 6\u001b[0m\n\u001b[0;32m      4\u001b[0m ans\u001b[38;5;241m=\u001b[39marea(\u001b[38;5;241m10\u001b[39m,\u001b[38;5;241m5\u001b[39m)\n\u001b[0;32m      5\u001b[0m \u001b[38;5;28mprint\u001b[39m(ans)\n\u001b[1;32m----> 6\u001b[0m ans1\u001b[38;5;241m=\u001b[39m\u001b[43marea\u001b[49m\u001b[43m(\u001b[49m\u001b[43m)\u001b[49m\n",
      "\u001b[1;31mTypeError\u001b[0m: area() missing 2 required positional arguments: 'l' and 'b'"
     ]
    }
   ],
   "source": [
    "def area(l,b):\n",
    "    return l*b\n",
    "\n",
    "ans=area(10,5)\n",
    "print(ans)\n",
    "ans1=area()\n"
   ]
  },
  {
   "cell_type": "code",
   "execution_count": 6,
   "id": "bac22029",
   "metadata": {},
   "outputs": [
    {
     "name": "stdout",
     "output_type": "stream",
     "text": [
      "65\n"
     ]
    }
   ],
   "source": [
    "res=area(l=5,b=13)\n",
    "print(res)"
   ]
  },
  {
   "cell_type": "code",
   "execution_count": 53,
   "id": "404a961d",
   "metadata": {},
   "outputs": [],
   "source": [
    "def si(p,r,t):\n",
    "    return p*r*t/100"
   ]
  },
  {
   "cell_type": "code",
   "execution_count": 8,
   "id": "ed9a4cd2",
   "metadata": {},
   "outputs": [
    {
     "name": "stdout",
     "output_type": "stream",
     "text": [
      "1650.0\n"
     ]
    }
   ],
   "source": [
    "intrest=si(p=10000,r=3.3,t=5)\n",
    "print(intrest)"
   ]
  },
  {
   "cell_type": "code",
   "execution_count": 9,
   "id": "9ec52cfb",
   "metadata": {},
   "outputs": [
    {
     "name": "stdout",
     "output_type": "stream",
     "text": [
      "1000\n",
      "100\n"
     ]
    }
   ],
   "source": [
    "def pow(n,e=2):\n",
    "    return n**e\n",
    "print(pow(10,3))\n",
    "print(pow(10))"
   ]
  },
  {
   "cell_type": "code",
   "execution_count": 10,
   "id": "167d8983",
   "metadata": {},
   "outputs": [
    {
     "data": {
      "text/plain": [
       "10"
      ]
     },
     "execution_count": 10,
     "metadata": {},
     "output_type": "execute_result"
    }
   ],
   "source": [
    "def adder(a,b=0,c=0,d=0):\n",
    "    return a+b+c+d\n",
    "adder(10)"
   ]
  },
  {
   "cell_type": "code",
   "execution_count": 11,
   "id": "8cc6e4e2",
   "metadata": {},
   "outputs": [
    {
     "data": {
      "text/plain": [
       "9"
      ]
     },
     "execution_count": 11,
     "metadata": {},
     "output_type": "execute_result"
    }
   ],
   "source": [
    "adder(5,4)"
   ]
  },
  {
   "cell_type": "code",
   "execution_count": 12,
   "id": "9dca458e",
   "metadata": {},
   "outputs": [
    {
     "data": {
      "text/plain": [
       "10"
      ]
     },
     "execution_count": 12,
     "metadata": {},
     "output_type": "execute_result"
    }
   ],
   "source": [
    "adder(2,3,5)"
   ]
  },
  {
   "cell_type": "code",
   "execution_count": 13,
   "id": "dacbff55",
   "metadata": {},
   "outputs": [
    {
     "data": {
      "text/plain": [
       "14"
      ]
     },
     "execution_count": 13,
     "metadata": {},
     "output_type": "execute_result"
    }
   ],
   "source": [
    "adder(5,4,3,2)"
   ]
  },
  {
   "cell_type": "code",
   "execution_count": 14,
   "id": "ae34b450",
   "metadata": {},
   "outputs": [
    {
     "data": {
      "text/plain": [
       "22"
      ]
     },
     "execution_count": 14,
     "metadata": {},
     "output_type": "execute_result"
    }
   ],
   "source": [
    "adder(a=10,c=10,d=2)"
   ]
  },
  {
   "cell_type": "code",
   "execution_count": 15,
   "id": "5a5aec3a",
   "metadata": {},
   "outputs": [
    {
     "name": "stdout",
     "output_type": "stream",
     "text": [
      "🌟🌟🌟🌟🌟\n",
      "Good Morning\n",
      "🌟🌟🌟🌟🌟\n"
     ]
    }
   ],
   "source": [
    "def greeting():\n",
    "    print(\"🌟\" * 5)\n",
    "    print(\"Good Morning\")\n",
    "    print(\"🌟\" * 5)\n",
    "greeting()"
   ]
  },
  {
   "cell_type": "markdown",
   "id": "8edd9714",
   "metadata": {},
   "source": [
    "Value Returning Function"
   ]
  },
  {
   "cell_type": "code",
   "execution_count": 33,
   "id": "b940671e",
   "metadata": {},
   "outputs": [
    {
     "name": "stdout",
     "output_type": "stream",
     "text": [
      "6️⃣\n",
      "4️⃣\n",
      "5️⃣\n",
      "4️⃣\n",
      "5️⃣\n",
      "3️⃣\n"
     ]
    }
   ],
   "source": [
    "def dice_roll():\n",
    "    import random\n",
    "    out={1:'1️⃣',2:'2️⃣',3:'3️⃣',4:'4️⃣',5:'5️⃣',6:'6️⃣'}\n",
    "    return out[random.randint(1,6)]\n",
    "print(dice_roll())\n",
    "print(dice_roll())\n",
    "print(dice_roll())\n",
    "print(dice_roll())\n",
    "print(dice_roll())\n",
    "print(dice_roll())"
   ]
  },
  {
   "cell_type": "code",
   "execution_count": 34,
   "id": "f0c9290f",
   "metadata": {},
   "outputs": [
    {
     "name": "stdout",
     "output_type": "stream",
     "text": [
      "False\n",
      "True\n",
      "True\n",
      "False\n"
     ]
    }
   ],
   "source": [
    "def is_valid_password(pwd):\n",
    "    if len(pwd)<8: return False\n",
    "    if not pwd.isalnum(): return False\n",
    "    return True\n",
    "print(is_valid_password(\"Hello\"))\n",
    "print(is_valid_password(\"helloworld\"))        \n",
    "print(is_valid_password(\"helloworld10\"))\n",
    "print(is_valid_password(\"312349@h*3mc\"))\n",
    "    "
   ]
  },
  {
   "cell_type": "code",
   "execution_count": 35,
   "id": "5e896b89",
   "metadata": {},
   "outputs": [
    {
     "name": "stdout",
     "output_type": "stream",
     "text": [
      "area = 180\n"
     ]
    }
   ],
   "source": [
    "def area(length: int , breadth : int) -> int:\n",
    "    return length * breadth\n",
    "l=12\n",
    "b=15\n",
    "a=area(l,b)\n",
    "print(f'area = {a}')"
   ]
  },
  {
   "cell_type": "code",
   "execution_count": 44,
   "id": "788dab7e",
   "metadata": {},
   "outputs": [
    {
     "name": "stdout",
     "output_type": "stream",
     "text": [
      "Hello World!\n",
      "Hi\n"
     ]
    }
   ],
   "source": [
    "def cleanText(data, to_remove=\"@#%\"):\n",
    "    newdata = data\n",
    "    for char in to_remove:\n",
    "        newdata = newdata.replace(char, \"\")\n",
    "    return newdata\n",
    "cText = cleanText(\"Hello@#% World!@#%\")\n",
    "print(cText)\n",
    "cText2 = cleanText(\"H@i#$%()&^*(#\", to_remove='@#$%^&*()' )\n",
    "print(cText2)"
   ]
  },
  {
   "cell_type": "code",
   "execution_count": 57,
   "id": "784b89e0",
   "metadata": {},
   "outputs": [
    {
     "data": {
      "text/plain": [
       "111"
      ]
     },
     "execution_count": 57,
     "metadata": {},
     "output_type": "execute_result"
    }
   ],
   "source": [
    "# a lovely function\n",
    "def add100(a,b,c,d,e,f,g,h,i,j,k,l,m,n,o,p,q,r,s,t,u,v,w,x,y,z):\n",
    "    return a+b+c+d+e+f+g+h+i+j+k+l+m+n+o+p+q+r+s+t+u+v+w+x+y+z\n",
    "add100(1,2,3,4,5,6,7,8,9,0,1,2,3,4,5,6,7,8,9,0,1,2,3,4,5,6)\n"
   ]
  },
  {
   "cell_type": "markdown",
   "id": "70602785",
   "metadata": {},
   "source": [
    "#Variable Arguments in Python\n",
    "\n",
    "A function can have variable arguments in python using * symbol before a parameter in the function definition. This allow the function to accept any number of positional arguments as a Tuple"
   ]
  },
  {
   "cell_type": "code",
   "execution_count": 58,
   "id": "3277de88",
   "metadata": {},
   "outputs": [
    {
     "name": "stdout",
     "output_type": "stream",
     "text": [
      "1\n",
      "6\n",
      "135995907640320000\n"
     ]
    }
   ],
   "source": [
    "def multiplier(*numbers):\n",
    "    result=1\n",
    "    for value in numbers:\n",
    "        result *=value\n",
    "    return result\n",
    "print(multiplier())\n",
    "print(multiplier(1,2,3))\n",
    "print(multiplier(65,674,24,74,765,34,8,5,35,8,6))"
   ]
  },
  {
   "cell_type": "code",
   "execution_count": 60,
   "id": "55151d9c",
   "metadata": {},
   "outputs": [
    {
     "name": "stdout",
     "output_type": "stream",
     "text": [
      "1\n",
      "22\n",
      "Wrong operator Given , Give + or *\n"
     ]
    }
   ],
   "source": [
    "def operate(*args, operator=\"*\"):\n",
    "    if operator ==\"*\":\n",
    "        result = 1\n",
    "        for num in args:\n",
    "            result+num\n",
    "        return result\n",
    "    elif operator ==\"+\":\n",
    "        result = 1\n",
    "        for num in args:\n",
    "            result+=num\n",
    "        return result\n",
    "    else:\n",
    "        return \"Wrong operator Given , Give + or *\"\n",
    "print(operate(1,2,3,4))\n",
    "print(operate(1,3,5,7,5,operator=\"+\"))\n",
    "print(operate(1,3,5,7,5,operator=\"-\"))"
   ]
  },
  {
   "cell_type": "markdown",
   "id": "d4a627a6",
   "metadata": {},
   "source": [
    "# Anonymous Functions in Python\n",
    "\n",
    "Anonynymous functions also known as lamda functions are small unnamed functions defined using the lamda keyword\n",
    "\n",
    "f(x)= x*2 +10 == lamda x:x*2 + 10"
   ]
  },
  {
   "cell_type": "code",
   "execution_count": 62,
   "id": "bbbc4f1d",
   "metadata": {},
   "outputs": [
    {
     "name": "stdout",
     "output_type": "stream",
     "text": [
      "<function <lambda> at 0x00000243B01F94E0>\n",
      "14\n",
      "20\n",
      "30\n"
     ]
    }
   ],
   "source": [
    "f = lambda x:x*2 +10\n",
    "print(f)\n",
    "\n",
    "print(f(2))\n",
    "print(f(5))\n",
    "print(f(10))"
   ]
  },
  {
   "cell_type": "code",
   "execution_count": 63,
   "id": "496eba0e",
   "metadata": {},
   "outputs": [
    {
     "name": "stdout",
     "output_type": "stream",
     "text": [
      "13\n",
      "311\n"
     ]
    }
   ],
   "source": [
    "g= lambda x,y : x*y + x + 10\n",
    "print(g(1,2))\n",
    "print(g(43,6))"
   ]
  },
  {
   "cell_type": "code",
   "execution_count": 2,
   "id": "983115dd",
   "metadata": {},
   "outputs": [
    {
     "name": "stdout",
     "output_type": "stream",
     "text": [
      "squared 4\n",
      "squared 9\n",
      "squared 1089\n",
      "squared 25\n",
      "squared 36\n",
      "squared 49\n",
      "[484, 1089, 3025]\n"
     ]
    }
   ],
   "source": [
    "def squared(data):\n",
    "    for i in data:\n",
    "        yield i**2\n",
    "\n",
    "for num in squared([2,3,33,5,6,7]):\n",
    "    print('squared',num)\n",
    "print(list(squared([22,33,55])))"
   ]
  },
  {
   "cell_type": "markdown",
   "id": "cc74b7e5",
   "metadata": {},
   "source": [
    "### Using functions from user-defined modules\n",
    "in python, you can create own modules"
   ]
  },
  {
   "cell_type": "code",
   "execution_count": 3,
   "id": "e2e68025",
   "metadata": {},
   "outputs": [],
   "source": [
    "import helper"
   ]
  },
  {
   "cell_type": "code",
   "execution_count": 4,
   "id": "7311a886",
   "metadata": {},
   "outputs": [
    {
     "data": {
      "text/plain": [
       "28.285714285714285"
      ]
     },
     "execution_count": 4,
     "metadata": {},
     "output_type": "execute_result"
    }
   ],
   "source": [
    "helper.calcAreaOfCircle(diameter=6)"
   ]
  },
  {
   "cell_type": "code",
   "execution_count": 5,
   "id": "24c72823",
   "metadata": {},
   "outputs": [
    {
     "data": {
      "text/plain": [
       "19.611428571428572"
      ]
     },
     "execution_count": 5,
     "metadata": {},
     "output_type": "execute_result"
    }
   ],
   "source": [
    "helper.circumference(3.12)"
   ]
  },
  {
   "cell_type": "code",
   "execution_count": 6,
   "id": "6ef009bc",
   "metadata": {},
   "outputs": [
    {
     "name": "stdout",
     "output_type": "stream",
     "text": [
      "50.285714285714285\n",
      "63.64285714285714\n",
      "138.28571428571428\n"
     ]
    }
   ],
   "source": [
    "a=helper.calcAreaOfCircle(4)\n",
    "b=helper.calcAreaOfCircle(diameter=9)\n",
    "c=helper.circumference(22)\n",
    "\n",
    "print(a,b,c,sep=\"\\n\")"
   ]
  }
 ],
 "metadata": {
  "kernelspec": {
   "display_name": "Python 3",
   "language": "python",
   "name": "python3"
  },
  "language_info": {
   "codemirror_mode": {
    "name": "ipython",
    "version": 3
   },
   "file_extension": ".py",
   "mimetype": "text/x-python",
   "name": "python",
   "nbconvert_exporter": "python",
   "pygments_lexer": "ipython3",
   "version": "3.11.2"
  }
 },
 "nbformat": 4,
 "nbformat_minor": 5
}
