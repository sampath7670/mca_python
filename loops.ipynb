{
 "cells": [
  {
   "cell_type": "code",
   "execution_count": 9,
   "id": "b7f00e8b",
   "metadata": {},
   "outputs": [
    {
     "name": "stdout",
     "output_type": "stream",
     "text": [
      "2\n",
      "4\n",
      "6\n",
      "8\n",
      "10\n",
      "12\n",
      "14\n",
      "16\n",
      "18\n",
      "20\n",
      "22\n",
      "24\n"
     ]
    }
   ],
   "source": [
    "for i in range(2,25,2):\n",
    "    print(i)"
   ]
  },
  {
   "cell_type": "code",
   "execution_count": 13,
   "id": "c3755b5c",
   "metadata": {},
   "outputs": [
    {
     "name": "stdout",
     "output_type": "stream",
     "text": [
      "even number 0\n",
      "Odd number 1\n",
      "even number 2\n",
      "Odd number 3\n",
      "even number 4\n",
      "Odd number 5\n",
      "even number 6\n",
      "Odd number 7\n",
      "even number 8\n",
      "Odd number 9\n",
      "even number 10\n",
      "Odd number 11\n",
      "even number 12\n",
      "Odd number 13\n",
      "even number 14\n",
      "Odd number 15\n",
      "even number 16\n",
      "Odd number 17\n",
      "even number 18\n",
      "Odd number 19\n",
      "even number 20\n",
      "Odd number 21\n",
      "even number 22\n",
      "Odd number 23\n",
      "even number 24\n",
      "Odd number 25\n",
      "even number 26\n",
      "Odd number 27\n",
      "even number 28\n",
      "Odd number 29\n",
      "even number 30\n",
      "Odd number 31\n",
      "even number 32\n",
      "Odd number 33\n",
      "even number 34\n",
      "Odd number 35\n",
      "even number 36\n",
      "Odd number 37\n",
      "even number 38\n",
      "Odd number 39\n"
     ]
    }
   ],
   "source": [
    "for i in range(40):\n",
    "    if i%2==0:\n",
    "        print(\"even number\",i)\n",
    "    else:\n",
    "        print(\"Odd number\",i)"
   ]
  },
  {
   "cell_type": "code",
   "execution_count": 14,
   "id": "06856f12",
   "metadata": {},
   "outputs": [
    {
     "name": "stdout",
     "output_type": "stream",
     "text": [
      "1\n",
      "1\n",
      "1\n",
      "1\n",
      "1\n"
     ]
    }
   ],
   "source": [
    "for _ in range(5):\n",
    "    print(\"1\")"
   ]
  },
  {
   "cell_type": "code",
   "execution_count": 38,
   "id": "ea341df6",
   "metadata": {},
   "outputs": [
    {
     "name": "stdout",
     "output_type": "stream",
     "text": [
      "12 X 1 =12\n",
      "12 X 2 =24\n",
      "12 X 3 =36\n",
      "12 X 4 =48\n",
      "12 X 5 =60\n",
      "12 X 6 =72\n",
      "12 X 7 =84\n",
      "12 X 8 =96\n",
      "12 X 9 =108\n",
      "12 X 10 =120\n"
     ]
    }
   ],
   "source": [
    "#size=10\n",
    "for i in range(1,11):\n",
    "        print(f'12 X {i} ={12*i}')"
   ]
  },
  {
   "cell_type": "code",
   "execution_count": 23,
   "id": "7c83e612",
   "metadata": {},
   "outputs": [
    {
     "name": "stdout",
     "output_type": "stream",
     "text": [
      "0\n",
      "1\n",
      "2\n",
      "3\n",
      "4\n",
      "5\n",
      "6\n",
      "7\n",
      "8\n",
      "9\n",
      "10\n",
      "11\n",
      "12\n",
      "13\n",
      "14\n"
     ]
    }
   ],
   "source": [
    "for i in range(15):\n",
    "    print(i)"
   ]
  },
  {
   "cell_type": "code",
   "execution_count": 25,
   "id": "0d2238a5",
   "metadata": {},
   "outputs": [
    {
     "name": "stdout",
     "output_type": "stream",
     "text": [
      "1\n",
      "2\n",
      "3\n",
      "4\n",
      "5\n",
      "6\n",
      "7\n",
      "8\n",
      "9\n",
      "10\n",
      "11\n",
      "12\n",
      "13\n",
      "14\n",
      "15\n",
      "16\n",
      "17\n",
      "18\n",
      "19\n",
      "20\n",
      "21\n",
      "22\n",
      "23\n",
      "24\n",
      "25\n",
      "26\n",
      "27\n",
      "28\n",
      "29\n",
      "30\n",
      "31\n",
      "32\n",
      "33\n",
      "34\n",
      "35\n",
      "36\n",
      "37\n",
      "38\n",
      "39\n",
      "40\n",
      "41\n",
      "42\n",
      "43\n",
      "44\n",
      "45\n",
      "46\n",
      "47\n",
      "48\n",
      "49\n",
      "50\n",
      "51\n",
      "52\n",
      "53\n",
      "54\n",
      "55\n",
      "56\n",
      "57\n",
      "58\n",
      "59\n",
      "60\n",
      "61\n",
      "62\n",
      "63\n",
      "64\n",
      "65\n",
      "66\n",
      "67\n",
      "68\n",
      "69\n"
     ]
    }
   ],
   "source": [
    "for i in range(1,70):\n",
    "    print(i)"
   ]
  },
  {
   "cell_type": "code",
   "execution_count": 26,
   "id": "792f30c1",
   "metadata": {},
   "outputs": [
    {
     "name": "stdout",
     "output_type": "stream",
     "text": [
      "10\n",
      "11\n",
      "12\n",
      "13\n",
      "14\n",
      "15\n",
      "16\n",
      "17\n",
      "18\n",
      "19\n",
      "20\n",
      "21\n",
      "22\n",
      "23\n",
      "24\n",
      "25\n",
      "26\n",
      "27\n",
      "28\n",
      "29\n",
      "30\n",
      "31\n",
      "32\n",
      "33\n",
      "34\n",
      "35\n",
      "36\n",
      "37\n",
      "38\n",
      "39\n",
      "40\n",
      "41\n",
      "42\n",
      "43\n",
      "44\n",
      "45\n",
      "46\n",
      "47\n",
      "48\n",
      "49\n",
      "50\n",
      "51\n",
      "52\n",
      "53\n",
      "54\n",
      "55\n",
      "56\n",
      "57\n",
      "58\n",
      "59\n"
     ]
    }
   ],
   "source": [
    "for i in range(10,60):\n",
    "    print(i)"
   ]
  },
  {
   "cell_type": "code",
   "execution_count": 29,
   "id": "58fc4204",
   "metadata": {},
   "outputs": [
    {
     "name": "stdout",
     "output_type": "stream",
     "text": [
      "12\n",
      "13\n",
      "14\n",
      "15\n",
      "16\n",
      "17\n",
      "18\n",
      "19\n"
     ]
    }
   ],
   "source": [
    "X= int(input(\"Enter Starting Number:\"))\n",
    "Y= int(input(\"Enter Stop Number:\"))\n",
    "\n",
    "for i in range(X,Y):\n",
    "    print(i)"
   ]
  },
  {
   "cell_type": "code",
   "execution_count": 15,
   "id": "ccb5d45f",
   "metadata": {},
   "outputs": [
    {
     "name": "stdout",
     "output_type": "stream",
     "text": [
      "1,3,5,7,9,11,13,15,17,19,21,23,25,27,29,31,33,35,37,39,41,43,45,47,49,51,53,55,57,59,61,63,65,67,69,71,73,75,77,79,81,83,85,87,89,91,93,95,97,99,"
     ]
    }
   ],
   "source": [
    "for i in range(1,101,2):\n",
    "    print(i,end=\",\")"
   ]
  },
  {
   "cell_type": "code",
   "execution_count": 9,
   "id": "1fb5e6cf",
   "metadata": {},
   "outputs": [
    {
     "name": "stdout",
     "output_type": "stream",
     "text": [
      "100,105,110,115,120,125,130,135,140,145,150,155,160,165,170,175,180,185,190,195,200,"
     ]
    }
   ],
   "source": [
    "for i in range(100,201,5):\n",
    "    print(i,end=\",\")"
   ]
  },
  {
   "cell_type": "code",
   "execution_count": 10,
   "id": "8de1c456",
   "metadata": {},
   "outputs": [
    {
     "name": "stdout",
     "output_type": "stream",
     "text": [
      "['Red', 'Blue', 'Green']\n"
     ]
    }
   ],
   "source": [
    "colors=[\"Red\",\"Blue\",\"Green\"]\n",
    "print(colors)"
   ]
  },
  {
   "cell_type": "code",
   "execution_count": null,
   "id": "250764bd",
   "metadata": {},
   "outputs": [
    {
     "name": "stdout",
     "output_type": "stream",
     "text": [
      "Red\n",
      "Blue\n",
      "Green\n"
     ]
    }
   ],
   "source": [
    "colors={\"Red\",\"Blue\",\"Green\"}\n",
    "\n",
    "for color in colors:\n",
    "    print(color)\n"
   ]
  },
  {
   "cell_type": "code",
   "execution_count": null,
   "id": "46d9f2a7",
   "metadata": {},
   "outputs": [
    {
     "name": "stdout",
     "output_type": "stream",
     "text": [
      "Ginna\n",
      "Pedharayudu\n",
      "Kannappa\n",
      "Jarumetaya\n",
      "S/O India\n"
     ]
    }
   ],
   "source": [
    "Movies=[\"Jinna\",\"Pedharayudu\",\"Kannappa\",\"Jarumetaya\",\"S/O India\"]\n",
    "for Cinemas in Movies:\n",
    "    print(Cinemas)"
   ]
  },
  {
   "cell_type": "code",
   "execution_count": 8,
   "id": "5185d8de",
   "metadata": {},
   "outputs": [
    {
     "name": "stdout",
     "output_type": "stream",
     "text": [
      "165\n"
     ]
    }
   ],
   "source": [
    "a=0\n",
    "for i in range(10,21):\n",
    "    a= a+i\n",
    "print(a)\n",
    "    \n",
    "    \n",
    "    \n",
    "\n"
   ]
  },
  {
   "cell_type": "code",
   "execution_count": 13,
   "id": "64326460",
   "metadata": {},
   "outputs": [
    {
     "name": "stdout",
     "output_type": "stream",
     "text": [
      "6704425728000\n"
     ]
    }
   ],
   "source": [
    "a=1\n",
    "for i in range(10,21):\n",
    "    a=a*i\n",
    "print(a)"
   ]
  },
  {
   "cell_type": "code",
   "execution_count": 21,
   "id": "44567efb",
   "metadata": {},
   "outputs": [
    {
     "name": "stdout",
     "output_type": "stream",
     "text": [
      "21\n",
      "10.5\n"
     ]
    }
   ],
   "source": [
    "a=0\n",
    "for i in range(10,12):\n",
    "    a=a+i\n",
    "print(a)\n",
    "\n",
    "avg= a/2\n",
    "print(avg)"
   ]
  },
  {
   "cell_type": "code",
   "execution_count": 22,
   "id": "5fd8d54e",
   "metadata": {},
   "outputs": [
    {
     "name": "stdout",
     "output_type": "stream",
     "text": [
      "34\n"
     ]
    }
   ],
   "source": [
    "a=[1,2,3,4,5,34,5,6,7,8]\n",
    "b=max(a)\n",
    "print(b)"
   ]
  },
  {
   "cell_type": "code",
   "execution_count": 30,
   "id": "1174b990",
   "metadata": {},
   "outputs": [
    {
     "name": "stdout",
     "output_type": "stream",
     "text": [
      "89\n"
     ]
    }
   ],
   "source": [
    "nums=[1,2,4,5,6,24,7,89,4,2,89]\n",
    "max=0\n",
    "for num in nums:\n",
    "    if num>max:\n",
    "        max=num\n",
    "print(max)"
   ]
  },
  {
   "cell_type": "code",
   "execution_count": 2,
   "id": "cec51ab3",
   "metadata": {},
   "outputs": [
    {
     "name": "stdout",
     "output_type": "stream",
     "text": [
      "27\n",
      "30\n",
      "33\n",
      "39\n",
      "42\n",
      "45\n",
      "48\n",
      "The Total count of Divisible by 3 are: 7\n"
     ]
    }
   ],
   "source": [
    "a=0\n",
    "nums=[25,26,27,28,29,30,31,32,33,34,35.36,37,38,39,40,41,42,43,44,45,46,47,48,49,50]\n",
    "for num in nums:\n",
    "    if num%3==0:\n",
    "       a=a+1\n",
    "       print(num)\n",
    "print(f'The Total count of Divisible by 3 are: {a}')\n"
   ]
  },
  {
   "cell_type": "code",
   "execution_count": 8,
   "id": "c0492940",
   "metadata": {},
   "outputs": [
    {
     "ename": "AttributeError",
     "evalue": "'list' object has no attribute 'startswith'",
     "output_type": "error",
     "traceback": [
      "\u001b[1;31m---------------------------------------------------------------------------\u001b[0m",
      "\u001b[1;31mAttributeError\u001b[0m                            Traceback (most recent call last)",
      "Cell \u001b[1;32mIn[8], line 4\u001b[0m\n\u001b[0;32m      2\u001b[0m movies_with_h \u001b[38;5;241m=\u001b[39m \u001b[38;5;241m0\u001b[39m\n\u001b[0;32m      3\u001b[0m \u001b[38;5;28;01mfor\u001b[39;00m movie \u001b[38;5;129;01min\u001b[39;00m movies:\n\u001b[1;32m----> 4\u001b[0m     \u001b[38;5;28;01mif\u001b[39;00m \u001b[43mmovies\u001b[49m\u001b[38;5;241;43m.\u001b[39;49m\u001b[43mstartswith\u001b[49m(\u001b[38;5;124m\"\u001b[39m\u001b[38;5;124mH\u001b[39m\u001b[38;5;124m\"\u001b[39m) \u001b[38;5;129;01mor\u001b[39;00m movie\u001b[38;5;241m.\u001b[39mstartswith(\u001b[38;5;124m\"\u001b[39m\u001b[38;5;124mh\u001b[39m\u001b[38;5;124m\"\u001b[39m):\n\u001b[0;32m      5\u001b[0m       movies_with_h \u001b[38;5;241m+\u001b[39m\u001b[38;5;241m=\u001b[39m \u001b[38;5;241m1\u001b[39m\n\u001b[0;32m      6\u001b[0m \u001b[38;5;28mprint\u001b[39m(\u001b[38;5;124m\"\u001b[39m\u001b[38;5;124mcount\u001b[39m\u001b[38;5;124m\"\u001b[39m,movies_with_h)     \n",
      "\u001b[1;31mAttributeError\u001b[0m: 'list' object has no attribute 'startswith'"
     ]
    }
   ],
   "source": [
    "movies = [\"harry potter 1\",\"harry potter 2\",\"harry potter 3\",\"harry potter 4\",\"harry potter 5\",\"harry potter 6\",\"harry potter 7\",\"harry potter 8\",\"fast and furious 1\",\"fast and furious 2\",\"fast and furious 3\",\"fast and furious 4\"]\n",
    "movies_with_h = 0\n",
    "for movie in movies:\n",
    "    if movies.startswith(\"H\") or movie.startswith(\"h\"):\n",
    "      movies_with_h += 1\n",
    "print(\"count\",movies_with_h)     "
   ]
  },
  {
   "cell_type": "code",
   "execution_count": 4,
   "id": "c5e543e4",
   "metadata": {},
   "outputs": [
    {
     "name": "stdout",
     "output_type": "stream",
     "text": [
      "count: 8\n"
     ]
    }
   ],
   "source": [
    "movies = [\"harry potter 1\", \"harry potter 2\", \"harry potter 3\", \"harry potter 4\",\n",
    "          \"harry potter 5\", \"harry potter 6\", \"harry potter 7\", \"harry potter 8\",\n",
    "          \"fast and furious 1\", \"fast and furious 2\", \"fast and furious 3\", \"fast and furious 4\"]\n",
    "\n",
    "movies_with_h = 0\n",
    "for movie in movies:\n",
    "    if movie.lower().startswith(\"h\"):\n",
    "        movies_with_h += 1\n",
    "\n",
    "print(\"count:\", movies_with_h)"
   ]
  },
  {
   "cell_type": "code",
   "execution_count": 10,
   "id": "aa107dd1",
   "metadata": {},
   "outputs": [
    {
     "name": "stdout",
     "output_type": "stream",
     "text": [
      "10 * 1\n",
      "1\n",
      "9 * 1\n",
      "1\n",
      "8 * 1\n",
      "1\n",
      "7 * 1\n",
      "1\n",
      "6 * 1\n",
      "1\n",
      "5 * 1\n",
      "1\n",
      "4 * 1\n",
      "1\n",
      "3 * 1\n",
      "1\n",
      "2 * 1\n",
      "1\n",
      "1 * 1\n",
      "1\n"
     ]
    }
   ],
   "source": [
    "num = 10 \n",
    "fact = 1\n",
    "for i in range(num,0,-1):\n",
    "    print(f'{i} * {fact}')\n",
    "    fact = fact * 1\n",
    "    print (fact)"
   ]
  },
  {
   "cell_type": "code",
   "execution_count": 11,
   "id": "058af595",
   "metadata": {},
   "outputs": [
    {
     "name": "stdout",
     "output_type": "stream",
     "text": [
      "i = 1, j= 1\n",
      "i = 1, j= 2\n",
      "i = 1, j= 3\n",
      "i = 1, j= 4\n",
      "i = 1, j= 5\n",
      "i = 2, j= 1\n",
      "i = 2, j= 2\n",
      "i = 2, j= 3\n",
      "i = 2, j= 4\n",
      "i = 2, j= 5\n",
      "i = 3, j= 1\n",
      "i = 3, j= 2\n",
      "i = 3, j= 3\n",
      "i = 3, j= 4\n",
      "i = 3, j= 5\n",
      "i = 4, j= 1\n",
      "i = 4, j= 2\n",
      "i = 4, j= 3\n",
      "i = 4, j= 4\n",
      "i = 4, j= 5\n",
      "i = 5, j= 1\n",
      "i = 5, j= 2\n",
      "i = 5, j= 3\n",
      "i = 5, j= 4\n",
      "i = 5, j= 5\n",
      "i = 6, j= 1\n",
      "i = 6, j= 2\n",
      "i = 6, j= 3\n",
      "i = 6, j= 4\n",
      "i = 6, j= 5\n",
      "i = 7, j= 1\n",
      "i = 7, j= 2\n",
      "i = 7, j= 3\n",
      "i = 7, j= 4\n",
      "i = 7, j= 5\n",
      "i = 8, j= 1\n",
      "i = 8, j= 2\n",
      "i = 8, j= 3\n",
      "i = 8, j= 4\n",
      "i = 8, j= 5\n",
      "i = 9, j= 1\n",
      "i = 9, j= 2\n",
      "i = 9, j= 3\n",
      "i = 9, j= 4\n",
      "i = 9, j= 5\n",
      "i = 10, j= 1\n",
      "i = 10, j= 2\n",
      "i = 10, j= 3\n",
      "i = 10, j= 4\n",
      "i = 10, j= 5\n"
     ]
    }
   ],
   "source": [
    "for i in range(1,11):\n",
    "    for j in range(1,6):\n",
    "        print(f'i = {i}, j= {j}')"
   ]
  },
  {
   "cell_type": "code",
   "execution_count": 14,
   "id": "e35caae0",
   "metadata": {},
   "outputs": [
    {
     "name": "stdout",
     "output_type": "stream",
     "text": [
      "12345\n",
      "12345\n",
      "12345\n",
      "12345\n",
      "12345\n"
     ]
    }
   ],
   "source": [
    "n=6\n",
    "for i in range(1,n):\n",
    "    for j in range(1,n):\n",
    "        print(j,end='')\n",
    "    print()"
   ]
  },
  {
   "cell_type": "code",
   "execution_count": 24,
   "id": "34a689dc",
   "metadata": {},
   "outputs": [
    {
     "name": "stdout",
     "output_type": "stream",
     "text": [
      "00000\n",
      "11111\n",
      "22222\n",
      "33333\n",
      "44444\n",
      "55555\n"
     ]
    }
   ],
   "source": [
    "n=6\n",
    "for i in range(0,n):\n",
    "    for j in range(1,n):\n",
    "        print(i, end='')\n",
    "    print()"
   ]
  },
  {
   "cell_type": "code",
   "execution_count": 3,
   "id": "ba6cf016",
   "metadata": {},
   "outputs": [
    {
     "name": "stdout",
     "output_type": "stream",
     "text": [
      "1,2,4,5,7,8,10,11,13,14,16,17,19,20,22,23,"
     ]
    }
   ],
   "source": [
    "for i in range(1,25):\n",
    "    if i%3==0:\n",
    "        continue\n",
    "    print(i,end=',')\n",
    "\n",
    "         "
   ]
  },
  {
   "cell_type": "code",
   "execution_count": 4,
   "id": "538284ba",
   "metadata": {},
   "outputs": [
    {
     "name": "stdout",
     "output_type": "stream",
     "text": [
      "12352583711578"
     ]
    }
   ],
   "source": [
    "data=[1,2,3,5,2,0,5,8,3,7,0,1,1,5,78]\n",
    "for i in data:\n",
    "    if i==0:\n",
    "        continue\n",
    "    print(i,end='')"
   ]
  },
  {
   "cell_type": "code",
   "execution_count": 5,
   "id": "66cb0be8",
   "metadata": {},
   "outputs": [
    {
     "name": "stdout",
     "output_type": "stream",
     "text": [
      "1234567"
     ]
    }
   ],
   "source": [
    "for i in range(1,13):\n",
    "    if i ==8:\n",
    "        break\n",
    "    print(i,end='')"
   ]
  },
  {
   "cell_type": "code",
   "execution_count": 16,
   "id": "f5873e66",
   "metadata": {},
   "outputs": [
    {
     "name": "stdout",
     "output_type": "stream",
     "text": [
      "Enter 0 to Stop the loop\n",
      "600\n"
     ]
    }
   ],
   "source": [
    "total=0\n",
    "print(\"Enter 0 to Stop the loop\")\n",
    "value=int(input(\"Enter Value:\"))\n",
    "for i in range(100):\n",
    "    \n",
    "    if value==0:\n",
    "        break\n",
    "    total+=value\n",
    "print(total)"
   ]
  },
  {
   "cell_type": "code",
   "execution_count": 2,
   "id": "66385f92",
   "metadata": {},
   "outputs": [
    {
     "name": "stdout",
     "output_type": "stream",
     "text": [
      "2\n",
      "5\n",
      "8\n",
      "11\n",
      "15\n",
      "Loop Completed\n"
     ]
    }
   ],
   "source": [
    "nums=[2,5,8,11,15]\n",
    "for n in nums:\n",
    "    print(n)\n",
    "print(\"Loop Completed\")"
   ]
  },
  {
   "cell_type": "code",
   "execution_count": null,
   "id": "82f9d0f8",
   "metadata": {},
   "outputs": [
    {
     "name": "stdout",
     "output_type": "stream",
     "text": [
      "2\n",
      "5\n",
      "8\n",
      "10\n",
      "loop completed\n"
     ]
    }
   ],
   "source": [
    "nums=[2,5,8,11,15]\n",
    "for n in nums:\n",
    "    if n>10:\n",
    "        break\n",
    "    print(n)\n",
    "print(\"loop completed\")"
   ]
  },
  {
   "cell_type": "code",
   "execution_count": 19,
   "id": "4a3217e7",
   "metadata": {},
   "outputs": [
    {
     "name": "stdout",
     "output_type": "stream",
     "text": [
      "Loop Completed\n"
     ]
    }
   ],
   "source": [
    "value=int(input(\"Enter Break Point\"))\n",
    "nums=[1,2,3,4,5,6,11,15,20,25]\n",
    "for n in nums:\n",
    "    if value>n:\n",
    "        print(\"Loop broken\")\n",
    "        break\n",
    "else:\n",
    "    print(\"Loop Completed\")"
   ]
  },
  {
   "cell_type": "code",
   "execution_count": 32,
   "id": "5a0defde",
   "metadata": {},
   "outputs": [],
   "source": [
    "num=int(input(\"Enter A number\"))\n",
    "for n in range(2,n):\n",
    "    if num%n==0:\n",
    "        print(f'{num} It is not A Prime number')\n",
    "        break"
   ]
  },
  {
   "cell_type": "code",
   "execution_count": 45,
   "id": "80ce08fe",
   "metadata": {},
   "outputs": [
    {
     "name": "stdout",
     "output_type": "stream",
     "text": [
      "7 It Is a Prime Number \n"
     ]
    }
   ],
   "source": [
    "num=int(input(\"Enter A number\"))\n",
    "for n in range(2,num):\n",
    "    if num%n==0:\n",
    "        print(f'{num} It is not A Prime number')\n",
    "        break\n",
    "else:\n",
    "    print(f'{num} It Is a Prime Number ')"
   ]
  },
  {
   "cell_type": "code",
   "execution_count": 47,
   "id": "45e94f8c",
   "metadata": {},
   "outputs": [
    {
     "name": "stdout",
     "output_type": "stream",
     "text": [
      "50\n",
      "45\n",
      "40\n",
      "35\n",
      "30\n",
      "25\n",
      "20\n",
      "15\n",
      "10\n",
      "5\n"
     ]
    }
   ],
   "source": [
    "x=50\n",
    "while x>0:\n",
    "    print(x)\n",
    "    x-=5"
   ]
  }
 ],
 "metadata": {
  "kernelspec": {
   "display_name": "Python 3",
   "language": "python",
   "name": "python3"
  },
  "language_info": {
   "codemirror_mode": {
    "name": "ipython",
    "version": 3
   },
   "file_extension": ".py",
   "mimetype": "text/x-python",
   "name": "python",
   "nbconvert_exporter": "python",
   "pygments_lexer": "ipython3",
   "version": "3.11.2"
  }
 },
 "nbformat": 4,
 "nbformat_minor": 5
}
