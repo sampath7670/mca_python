{
 "cells": [
  {
   "cell_type": "markdown",
   "id": "ac45138b",
   "metadata": {},
   "source": [
    "String Creation"
   ]
  },
  {
   "cell_type": "code",
   "execution_count": 6,
   "id": "43fece3c",
   "metadata": {},
   "outputs": [],
   "source": [
    "a='Apple'\n",
    "b=\"Banana\"\n",
    "c='''This is \n",
    "Chocalate \n",
    "Cake'''"
   ]
  },
  {
   "cell_type": "markdown",
   "id": "c604760c",
   "metadata": {},
   "source": [
    "Type Conversion"
   ]
  },
  {
   "cell_type": "code",
   "execution_count": null,
   "id": "b8f8e371",
   "metadata": {},
   "outputs": [
    {
     "name": "stdout",
     "output_type": "stream",
     "text": [
      "10 <class 'str'>\n",
      "['apple', 'Banana'] <class 'str'>\n"
     ]
    }
   ],
   "source": [
    "\n",
    "x=str(10)\n",
    "y=str([\"apple\",\"Banana\"])\n",
    "print(x,type(x))\n",
    "print(y,type(y))"
   ]
  },
  {
   "cell_type": "code",
   "execution_count": 8,
   "id": "83055eca",
   "metadata": {},
   "outputs": [
    {
     "name": "stdout",
     "output_type": "stream",
     "text": [
      "A\n"
     ]
    },
    {
     "ename": "TypeError",
     "evalue": "'str' object does not support item assignment",
     "output_type": "error",
     "traceback": [
      "\u001b[1;31m---------------------------------------------------------------------------\u001b[0m",
      "\u001b[1;31mTypeError\u001b[0m                                 Traceback (most recent call last)",
      "Cell \u001b[1;32mIn[8], line 2\u001b[0m\n\u001b[0;32m      1\u001b[0m \u001b[38;5;28mprint\u001b[39m(a[\u001b[38;5;241m0\u001b[39m])\n\u001b[1;32m----> 2\u001b[0m \u001b[43ma\u001b[49m\u001b[43m[\u001b[49m\u001b[38;5;241;43m0\u001b[39;49m\u001b[43m]\u001b[49m\u001b[38;5;241m=\u001b[39m\u001b[38;5;124m'\u001b[39m\u001b[38;5;124mc\u001b[39m\u001b[38;5;124m'\u001b[39m\n",
      "\u001b[1;31mTypeError\u001b[0m: 'str' object does not support item assignment"
     ]
    }
   ],
   "source": [
    "print(a[0])\n",
    "a[0]='c'\n"
   ]
  },
  {
   "cell_type": "markdown",
   "id": "bc91c2fb",
   "metadata": {},
   "source": [
    "Slicing &Indexing"
   ]
  },
  {
   "cell_type": "code",
   "execution_count": 12,
   "id": "23da707e",
   "metadata": {},
   "outputs": [
    {
     "name": "stdout",
     "output_type": "stream",
     "text": [
      "the point is, i am not disappointed\n"
     ]
    }
   ],
   "source": [
    "x='disappointed'\n",
    "y=x[5:10]\n",
    "print(f'the {y} is, i am not {x}')\n"
   ]
  },
  {
   "cell_type": "code",
   "execution_count": null,
   "id": "a2331b78",
   "metadata": {},
   "outputs": [
    {
     "name": "stdout",
     "output_type": "stream",
     "text": [
      "Johny Johny, Yes Papa\n",
      "\n",
      "ating sugar? No Papa.\n",
      "\n",
      "elling lies?  No Papa.\n",
      "Open your mouth Ha, ha, ha\n"
     ]
    }
   ],
   "source": [
    "poem='''Johny Johny, Yes Papa\n",
    "Eating sugar? No Papa.\n",
    "Telling lies?  No Papa.\n",
    "Open your mouth Ha, ha, ha'''\n",
    "x=poem[:22]\n",
    "y=poem[23:45]\n",
    "z=poem[46:68]\n",
    "l=poem[69:]\n",
    "print(x)\n",
    "print(y)    \n",
    "print(z)\n",
    "print(l)"
   ]
  },
  {
   "cell_type": "code",
   "execution_count": null,
   "id": "9f22ed0d",
   "metadata": {},
   "outputs": [],
   "source": []
  }
 ],
 "metadata": {
  "kernelspec": {
   "display_name": "Python 3",
   "language": "python",
   "name": "python3"
  },
  "language_info": {
   "codemirror_mode": {
    "name": "ipython",
    "version": 3
   },
   "file_extension": ".py",
   "mimetype": "text/x-python",
   "name": "python",
   "nbconvert_exporter": "python",
   "pygments_lexer": "ipython3",
   "version": "3.11.2"
  }
 },
 "nbformat": 4,
 "nbformat_minor": 5
}
