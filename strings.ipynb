{
 "cells": [
  {
   "cell_type": "markdown",
   "id": "ac45138b",
   "metadata": {},
   "source": [
    "String Creation"
   ]
  },
  {
   "cell_type": "code",
   "execution_count": 6,
   "id": "43fece3c",
   "metadata": {},
   "outputs": [],
   "source": [
    "a='Apple'\n",
    "b=\"Banana\"\n",
    "c='''This is \n",
    "Chocalate \n",
    "Cake'''"
   ]
  },
  {
   "cell_type": "markdown",
   "id": "c604760c",
   "metadata": {},
   "source": [
    "Type Conversion"
   ]
  },
  {
   "cell_type": "code",
   "execution_count": null,
   "id": "b8f8e371",
   "metadata": {},
   "outputs": [
    {
     "name": "stdout",
     "output_type": "stream",
     "text": [
      "10 <class 'str'>\n",
      "['apple', 'Banana'] <class 'str'>\n"
     ]
    }
   ],
   "source": [
    "\n",
    "x=str(10)\n",
    "y=str([\"apple\",\"Banana\"])\n",
    "print(x,type(x))\n",
    "print(y,type(y))"
   ]
  },
  {
   "cell_type": "code",
   "execution_count": 8,
   "id": "83055eca",
   "metadata": {},
   "outputs": [
    {
     "name": "stdout",
     "output_type": "stream",
     "text": [
      "A\n"
     ]
    },
    {
     "ename": "TypeError",
     "evalue": "'str' object does not support item assignment",
     "output_type": "error",
     "traceback": [
      "\u001b[1;31m---------------------------------------------------------------------------\u001b[0m",
      "\u001b[1;31mTypeError\u001b[0m                                 Traceback (most recent call last)",
      "Cell \u001b[1;32mIn[8], line 2\u001b[0m\n\u001b[0;32m      1\u001b[0m \u001b[38;5;28mprint\u001b[39m(a[\u001b[38;5;241m0\u001b[39m])\n\u001b[1;32m----> 2\u001b[0m \u001b[43ma\u001b[49m\u001b[43m[\u001b[49m\u001b[38;5;241;43m0\u001b[39;49m\u001b[43m]\u001b[49m\u001b[38;5;241m=\u001b[39m\u001b[38;5;124m'\u001b[39m\u001b[38;5;124mc\u001b[39m\u001b[38;5;124m'\u001b[39m\n",
      "\u001b[1;31mTypeError\u001b[0m: 'str' object does not support item assignment"
     ]
    }
   ],
   "source": [
    "print(a[0])\n",
    "a[0]='c'\n"
   ]
  },
  {
   "cell_type": "markdown",
   "id": "bc91c2fb",
   "metadata": {},
   "source": [
    "Slicing &Indexing"
   ]
  },
  {
   "cell_type": "code",
   "execution_count": 12,
   "id": "23da707e",
   "metadata": {},
   "outputs": [
    {
     "name": "stdout",
     "output_type": "stream",
     "text": [
      "the point is, i am not disappointed\n"
     ]
    }
   ],
   "source": [
    "x='disappointed'\n",
    "y=x[5:10]\n",
    "print(f'the {y} is, i am not {x}')\n"
   ]
  },
  {
   "cell_type": "code",
   "execution_count": null,
   "id": "a2331b78",
   "metadata": {},
   "outputs": [
    {
     "name": "stdout",
     "output_type": "stream",
     "text": [
      "Johny Johny, Yes Papa\n",
      "\n",
      "ating sugar? No Papa.\n",
      "\n",
      "elling lies?  No Papa.\n",
      "Open your mouth Ha, ha, ha\n"
     ]
    }
   ],
   "source": [
    "poem='''Johny Johny, Yes Papa\n",
    "Eating sugar? No Papa.\n",
    "Telling lies?  No Papa.\n",
    "Open your mouth Ha, ha, ha'''\n",
    "x=poem[:22]\n",
    "y=poem[23:45]\n",
    "z=poem[46:68]\n",
    "l=poem[69:]\n",
    "print(x)\n",
    "print(y)    \n",
    "print(z)\n",
    "print(l)"
   ]
  },
  {
   "cell_type": "markdown",
   "id": "cf94a12a",
   "metadata": {},
   "source": [
    "FORMATTING"
   ]
  },
  {
   "cell_type": "code",
   "execution_count": 12,
   "id": "31ab44f3",
   "metadata": {},
   "outputs": [
    {
     "name": "stdout",
     "output_type": "stream",
     "text": [
      "Maintain silence in Library\n",
      "MAINTAIN SILENCE IN LIBRARY\n",
      "maintain silence in library\n",
      "maintain silence in library\n",
      "Maintain silence in library\n",
      "Maintain Silence In Library\n",
      "mAINTAIN SILENCE IN lIBRARY\n",
      "Maintain silence in Library\n",
      "sampath\n"
     ]
    }
   ],
   "source": [
    "s='Maintain silence in Library'\n",
    "t='SaMpaTh'\n",
    "supper=s.upper()\n",
    "case_fold=s.casefold()\n",
    "lower=s.lower()\n",
    "cap=s.capitalize()\n",
    "title=s.title()\n",
    "swap=s.swapcase()\n",
    "swap1=swap.swapcase()\n",
    "print(s)\n",
    "print(supper)\n",
    "print(case_fold)\n",
    "print(lower)\n",
    "print(cap)\n",
    "print(title)\n",
    "print(swap )\n",
    "print(swap1)\n",
    "case2=t.casefold()\n",
    "print(case2)"
   ]
  },
  {
   "cell_type": "markdown",
   "id": "1029fda3",
   "metadata": {},
   "source": []
  },
  {
   "cell_type": "code",
   "execution_count": 22,
   "id": "09244657",
   "metadata": {},
   "outputs": [
    {
     "name": "stdout",
     "output_type": "stream",
     "text": [
      "5\n",
      "Seven\n",
      "Seven*****\n",
      "*****Seven\n",
      "**Seven***\n",
      "   Seven   \n",
      "---Seven----\n",
      "        Seven\n"
     ]
    }
   ],
   "source": [
    "a='Seven'\n",
    "size=len(a)\n",
    "print(size)\n",
    "a1=a.ljust(10,'*')\n",
    "a2=a.rjust(10,'*')\n",
    "a6=a.rjust(13)\n",
    "a3=a.center(10,'*')\n",
    "a4=a.center(11)\n",
    "a5=a.center(12,'-')\n",
    "print(a)\n",
    "print(a1)\n",
    "print(a2)\n",
    "print(a3,a4,a5,a6,sep='\\n')"
   ]
  },
  {
   "cell_type": "markdown",
   "id": "41d68785",
   "metadata": {},
   "source": [
    "Validation"
   ]
  },
  {
   "cell_type": "code",
   "execution_count": 33,
   "id": "71a6aeb8",
   "metadata": {},
   "outputs": [
    {
     "name": "stdout",
     "output_type": "stream",
     "text": [
      "     \n",
      "False\n",
      "False\n",
      "False\n",
      "True\n"
     ]
    }
   ],
   "source": [
    "x=input()\n",
    "print(x)\n",
    "print(x.isalpha())\n",
    "print(x.isalnum())\n",
    "print(x.isdigit())\n",
    "print(x.isspace())\n"
   ]
  },
  {
   "cell_type": "code",
   "execution_count": 34,
   "id": "b2f5259e",
   "metadata": {},
   "outputs": [
    {
     "name": "stdout",
     "output_type": "stream",
     "text": [
      "False\n",
      "True\n",
      "False\n"
     ]
    }
   ],
   "source": [
    "a=input()\n",
    "a1=a.startswith('a')\n",
    "a2=a.startswith('Hello')\n",
    "a3=a.startswith('b')\n",
    "print(a1,a2,a3,sep='\\n' )"
   ]
  },
  {
   "cell_type": "code",
   "execution_count": null,
   "id": "9dac98e3",
   "metadata": {},
   "outputs": [],
   "source": []
  }
 ],
 "metadata": {
  "kernelspec": {
   "display_name": "Python 3",
   "language": "python",
   "name": "python3"
  },
  "language_info": {
   "codemirror_mode": {
    "name": "ipython",
    "version": 3
   },
   "file_extension": ".py",
   "mimetype": "text/x-python",
   "name": "python",
   "nbconvert_exporter": "python",
   "pygments_lexer": "ipython3",
   "version": "3.11.2"
  }
 },
 "nbformat": 4,
 "nbformat_minor": 5
}
